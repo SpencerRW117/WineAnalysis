{
 "cells": [
  {
   "cell_type": "code",
   "execution_count": 1,
   "metadata": {},
   "outputs": [],
   "source": [
    "## Run this block to generate an UPLOAD widget.\n",
    "\n",
    "## Click the widget, navigate to and select winedata.csv"
   ]
  },
  {
   "cell_type": "code",
   "execution_count": 2,
   "metadata": {},
   "outputs": [
    {
     "data": {
      "application/vnd.jupyter.widget-view+json": {
       "model_id": "205dbf11afee453b91fc59d7dad20352",
       "version_major": 2,
       "version_minor": 0
      },
      "text/plain": [
       "FileUpload(value={}, accept='*.csv', description='Upload')"
      ]
     },
     "metadata": {},
     "output_type": "display_data"
    }
   ],
   "source": [
    "#ipywidgets imported here\n",
    "import ipywidgets as widgets\n",
    "widgets.IntSlider()\n",
    "from IPython.display import display\n",
    "w = widgets.IntSlider()\n",
    "uploader = widgets.FileUpload(\n",
    "    accept='*.csv',  # Accepted file extension e.g. '.txt', '.pdf', 'image/*', 'image/*,.pdf'\n",
    "    multiple=False  # True to accept multiple files upload else False\n",
    ")\n",
    "\n",
    "display(uploader)"
   ]
  },
  {
   "cell_type": "code",
   "execution_count": 118,
   "metadata": {},
   "outputs": [],
   "source": [
    "## Run this block to display the first few record from the uploaded winedata.csv file and ensure it uploaded correctly."
   ]
  },
  {
   "cell_type": "code",
   "execution_count": 3,
   "metadata": {},
   "outputs": [
    {
     "data": {
      "text/html": [
       "<div>\n",
       "<style scoped>\n",
       "    .dataframe tbody tr th:only-of-type {\n",
       "        vertical-align: middle;\n",
       "    }\n",
       "\n",
       "    .dataframe tbody tr th {\n",
       "        vertical-align: top;\n",
       "    }\n",
       "\n",
       "    .dataframe thead th {\n",
       "        text-align: right;\n",
       "    }\n",
       "</style>\n",
       "<table border=\"1\" class=\"dataframe\">\n",
       "  <thead>\n",
       "    <tr style=\"text-align: right;\">\n",
       "      <th></th>\n",
       "      <th>type</th>\n",
       "      <th>fixed acidity</th>\n",
       "      <th>volatile acidity</th>\n",
       "      <th>citric acid</th>\n",
       "      <th>residual sugar</th>\n",
       "      <th>chlorides</th>\n",
       "      <th>free sulfur dioxide</th>\n",
       "      <th>total sulfur dioxide</th>\n",
       "      <th>density</th>\n",
       "      <th>pH</th>\n",
       "      <th>sulphates</th>\n",
       "      <th>alcohol</th>\n",
       "      <th>quality</th>\n",
       "    </tr>\n",
       "  </thead>\n",
       "  <tbody>\n",
       "    <tr>\n",
       "      <th>0</th>\n",
       "      <td>white</td>\n",
       "      <td>7.0</td>\n",
       "      <td>0.27</td>\n",
       "      <td>0.36</td>\n",
       "      <td>20.7</td>\n",
       "      <td>0.045</td>\n",
       "      <td>45.0</td>\n",
       "      <td>170.0</td>\n",
       "      <td>1.0010</td>\n",
       "      <td>3.00</td>\n",
       "      <td>0.45</td>\n",
       "      <td>8.8</td>\n",
       "      <td>6</td>\n",
       "    </tr>\n",
       "    <tr>\n",
       "      <th>1</th>\n",
       "      <td>white</td>\n",
       "      <td>6.3</td>\n",
       "      <td>0.30</td>\n",
       "      <td>0.34</td>\n",
       "      <td>1.6</td>\n",
       "      <td>0.049</td>\n",
       "      <td>14.0</td>\n",
       "      <td>132.0</td>\n",
       "      <td>0.9940</td>\n",
       "      <td>3.30</td>\n",
       "      <td>0.49</td>\n",
       "      <td>9.5</td>\n",
       "      <td>6</td>\n",
       "    </tr>\n",
       "    <tr>\n",
       "      <th>2</th>\n",
       "      <td>white</td>\n",
       "      <td>8.1</td>\n",
       "      <td>0.28</td>\n",
       "      <td>0.40</td>\n",
       "      <td>6.9</td>\n",
       "      <td>0.050</td>\n",
       "      <td>30.0</td>\n",
       "      <td>97.0</td>\n",
       "      <td>0.9951</td>\n",
       "      <td>3.26</td>\n",
       "      <td>0.44</td>\n",
       "      <td>10.1</td>\n",
       "      <td>6</td>\n",
       "    </tr>\n",
       "    <tr>\n",
       "      <th>3</th>\n",
       "      <td>white</td>\n",
       "      <td>7.2</td>\n",
       "      <td>0.23</td>\n",
       "      <td>0.32</td>\n",
       "      <td>8.5</td>\n",
       "      <td>0.058</td>\n",
       "      <td>47.0</td>\n",
       "      <td>186.0</td>\n",
       "      <td>0.9956</td>\n",
       "      <td>3.19</td>\n",
       "      <td>0.40</td>\n",
       "      <td>9.9</td>\n",
       "      <td>6</td>\n",
       "    </tr>\n",
       "    <tr>\n",
       "      <th>4</th>\n",
       "      <td>white</td>\n",
       "      <td>7.2</td>\n",
       "      <td>0.23</td>\n",
       "      <td>0.32</td>\n",
       "      <td>8.5</td>\n",
       "      <td>0.058</td>\n",
       "      <td>47.0</td>\n",
       "      <td>186.0</td>\n",
       "      <td>0.9956</td>\n",
       "      <td>3.19</td>\n",
       "      <td>0.40</td>\n",
       "      <td>9.9</td>\n",
       "      <td>6</td>\n",
       "    </tr>\n",
       "  </tbody>\n",
       "</table>\n",
       "</div>"
      ],
      "text/plain": [
       "    type  fixed acidity  volatile acidity  citric acid  residual sugar  \\\n",
       "0  white            7.0              0.27         0.36            20.7   \n",
       "1  white            6.3              0.30         0.34             1.6   \n",
       "2  white            8.1              0.28         0.40             6.9   \n",
       "3  white            7.2              0.23         0.32             8.5   \n",
       "4  white            7.2              0.23         0.32             8.5   \n",
       "\n",
       "   chlorides  free sulfur dioxide  total sulfur dioxide  density    pH  \\\n",
       "0      0.045                 45.0                 170.0   1.0010  3.00   \n",
       "1      0.049                 14.0                 132.0   0.9940  3.30   \n",
       "2      0.050                 30.0                  97.0   0.9951  3.26   \n",
       "3      0.058                 47.0                 186.0   0.9956  3.19   \n",
       "4      0.058                 47.0                 186.0   0.9956  3.19   \n",
       "\n",
       "   sulphates  alcohol  quality  \n",
       "0       0.45      8.8        6  \n",
       "1       0.49      9.5        6  \n",
       "2       0.44     10.1        6  \n",
       "3       0.40      9.9        6  \n",
       "4       0.40      9.9        6  "
      ]
     },
     "execution_count": 3,
     "metadata": {},
     "output_type": "execute_result"
    }
   ],
   "source": [
    "#io and pandas imported here\n",
    "import io\n",
    "import pandas as pd\n",
    "input_file = list(uploader.value.values())[0]\n",
    "content = input_file['content']\n",
    "content = io.StringIO(content.decode('utf-8'))\n",
    "\n",
    "#Make the primary dataframe here, named df\n",
    "df = pd.read_csv(content)\n",
    "df.head()"
   ]
  },
  {
   "cell_type": "code",
   "execution_count": 4,
   "metadata": {},
   "outputs": [
    {
     "name": "stdout",
     "output_type": "stream",
     "text": [
      "Requirement already satisfied: voila in /srv/conda/envs/notebook/lib/python3.6/site-packages (0.2.16)\n",
      "Requirement already satisfied: nbconvert<7,>=6.0.0 in /srv/conda/envs/notebook/lib/python3.6/site-packages (from voila) (6.0.7)\n",
      "Requirement already satisfied: jupyter-server<2.0.0,>=0.3.0 in /srv/conda/envs/notebook/lib/python3.6/site-packages (from voila) (1.10.1)\n",
      "Requirement already satisfied: jupyter-client<7,>=6.1.3 in /srv/conda/envs/notebook/lib/python3.6/site-packages (from voila) (6.1.12)\n",
      "Requirement already satisfied: nbclient<0.6,>=0.4.0 in /srv/conda/envs/notebook/lib/python3.6/site-packages (from voila) (0.5.3)\n",
      "Requirement already satisfied: traitlets in /srv/conda/envs/notebook/lib/python3.6/site-packages (from jupyter-client<7,>=6.1.3->voila) (4.3.3)\n",
      "Requirement already satisfied: pyzmq>=13 in /srv/conda/envs/notebook/lib/python3.6/site-packages (from jupyter-client<7,>=6.1.3->voila) (22.1.0)\n",
      "Requirement already satisfied: tornado>=4.1 in /srv/conda/envs/notebook/lib/python3.6/site-packages (from jupyter-client<7,>=6.1.3->voila) (6.1)\n",
      "Requirement already satisfied: python-dateutil>=2.1 in /srv/conda/envs/notebook/lib/python3.6/site-packages (from jupyter-client<7,>=6.1.3->voila) (2.8.2)\n",
      "Requirement already satisfied: jupyter-core>=4.6.0 in /srv/conda/envs/notebook/lib/python3.6/site-packages (from jupyter-client<7,>=6.1.3->voila) (4.7.1)\n",
      "Requirement already satisfied: websocket-client in /srv/conda/envs/notebook/lib/python3.6/site-packages (from jupyter-server<2.0.0,>=0.3.0->voila) (0.57.0)\n",
      "Requirement already satisfied: terminado>=0.8.3 in /srv/conda/envs/notebook/lib/python3.6/site-packages (from jupyter-server<2.0.0,>=0.3.0->voila) (0.10.1)\n",
      "Requirement already satisfied: requests-unixsocket in /srv/conda/envs/notebook/lib/python3.6/site-packages (from jupyter-server<2.0.0,>=0.3.0->voila) (0.2.0)\n",
      "Requirement already satisfied: anyio<4,>=3.1.0 in /srv/conda/envs/notebook/lib/python3.6/site-packages (from jupyter-server<2.0.0,>=0.3.0->voila) (3.3.0)\n",
      "Requirement already satisfied: jinja2 in /srv/conda/envs/notebook/lib/python3.6/site-packages (from jupyter-server<2.0.0,>=0.3.0->voila) (3.0.1)\n",
      "Requirement already satisfied: argon2-cffi in /srv/conda/envs/notebook/lib/python3.6/site-packages (from jupyter-server<2.0.0,>=0.3.0->voila) (20.1.0)\n",
      "Requirement already satisfied: Send2Trash in /srv/conda/envs/notebook/lib/python3.6/site-packages (from jupyter-server<2.0.0,>=0.3.0->voila) (1.7.1)\n",
      "Requirement already satisfied: nbformat in /srv/conda/envs/notebook/lib/python3.6/site-packages (from jupyter-server<2.0.0,>=0.3.0->voila) (5.1.3)\n",
      "Requirement already satisfied: ipython-genutils in /srv/conda/envs/notebook/lib/python3.6/site-packages (from jupyter-server<2.0.0,>=0.3.0->voila) (0.2.0)\n",
      "Requirement already satisfied: prometheus-client in /srv/conda/envs/notebook/lib/python3.6/site-packages (from jupyter-server<2.0.0,>=0.3.0->voila) (0.11.0)\n",
      "Requirement already satisfied: idna>=2.8 in /srv/conda/envs/notebook/lib/python3.6/site-packages (from anyio<4,>=3.1.0->jupyter-server<2.0.0,>=0.3.0->voila) (3.1)\n",
      "Requirement already satisfied: sniffio>=1.1 in /srv/conda/envs/notebook/lib/python3.6/site-packages (from anyio<4,>=3.1.0->jupyter-server<2.0.0,>=0.3.0->voila) (1.2.0)\n",
      "Requirement already satisfied: dataclasses in /srv/conda/envs/notebook/lib/python3.6/site-packages (from anyio<4,>=3.1.0->jupyter-server<2.0.0,>=0.3.0->voila) (0.8)\n",
      "Requirement already satisfied: typing-extensions in /srv/conda/envs/notebook/lib/python3.6/site-packages (from anyio<4,>=3.1.0->jupyter-server<2.0.0,>=0.3.0->voila) (3.7.4.3)\n",
      "Requirement already satisfied: nest-asyncio in /srv/conda/envs/notebook/lib/python3.6/site-packages (from nbclient<0.6,>=0.4.0->voila) (1.5.1)\n",
      "Requirement already satisfied: async-generator in /srv/conda/envs/notebook/lib/python3.6/site-packages (from nbclient<0.6,>=0.4.0->voila) (1.10)\n",
      "Requirement already satisfied: pygments>=2.4.1 in /srv/conda/envs/notebook/lib/python3.6/site-packages (from nbconvert<7,>=6.0.0->voila) (2.9.0)\n",
      "Requirement already satisfied: defusedxml in /srv/conda/envs/notebook/lib/python3.6/site-packages (from nbconvert<7,>=6.0.0->voila) (0.7.1)\n",
      "Requirement already satisfied: bleach in /srv/conda/envs/notebook/lib/python3.6/site-packages (from nbconvert<7,>=6.0.0->voila) (3.3.1)\n",
      "Requirement already satisfied: testpath in /srv/conda/envs/notebook/lib/python3.6/site-packages (from nbconvert<7,>=6.0.0->voila) (0.5.0)\n",
      "Requirement already satisfied: entrypoints>=0.2.2 in /srv/conda/envs/notebook/lib/python3.6/site-packages (from nbconvert<7,>=6.0.0->voila) (0.3)\n",
      "Requirement already satisfied: pandocfilters>=1.4.1 in /srv/conda/envs/notebook/lib/python3.6/site-packages (from nbconvert<7,>=6.0.0->voila) (1.4.2)\n",
      "Requirement already satisfied: mistune<2,>=0.8.1 in /srv/conda/envs/notebook/lib/python3.6/site-packages (from nbconvert<7,>=6.0.0->voila) (0.8.4)\n",
      "Requirement already satisfied: jupyterlab-pygments in /srv/conda/envs/notebook/lib/python3.6/site-packages (from nbconvert<7,>=6.0.0->voila) (0.1.2)\n",
      "Requirement already satisfied: MarkupSafe>=2.0 in /srv/conda/envs/notebook/lib/python3.6/site-packages (from jinja2->jupyter-server<2.0.0,>=0.3.0->voila) (2.0.1)\n",
      "Requirement already satisfied: jsonschema!=2.5.0,>=2.4 in /srv/conda/envs/notebook/lib/python3.6/site-packages (from nbformat->jupyter-server<2.0.0,>=0.3.0->voila) (3.2.0)\n",
      "Requirement already satisfied: setuptools in /srv/conda/envs/notebook/lib/python3.6/site-packages (from jsonschema!=2.5.0,>=2.4->nbformat->jupyter-server<2.0.0,>=0.3.0->voila) (49.6.0.post20210108)\n",
      "Requirement already satisfied: six>=1.11.0 in /srv/conda/envs/notebook/lib/python3.6/site-packages (from jsonschema!=2.5.0,>=2.4->nbformat->jupyter-server<2.0.0,>=0.3.0->voila) (1.15.0)\n",
      "Requirement already satisfied: pyrsistent>=0.14.0 in /srv/conda/envs/notebook/lib/python3.6/site-packages (from jsonschema!=2.5.0,>=2.4->nbformat->jupyter-server<2.0.0,>=0.3.0->voila) (0.17.3)\n",
      "Requirement already satisfied: attrs>=17.4.0 in /srv/conda/envs/notebook/lib/python3.6/site-packages (from jsonschema!=2.5.0,>=2.4->nbformat->jupyter-server<2.0.0,>=0.3.0->voila) (21.2.0)\n",
      "Requirement already satisfied: importlib-metadata in /srv/conda/envs/notebook/lib/python3.6/site-packages (from jsonschema!=2.5.0,>=2.4->nbformat->jupyter-server<2.0.0,>=0.3.0->voila) (4.6.3)\n",
      "Requirement already satisfied: contextvars>=2.1 in /srv/conda/envs/notebook/lib/python3.6/site-packages (from sniffio>=1.1->anyio<4,>=3.1.0->jupyter-server<2.0.0,>=0.3.0->voila) (2.4)\n",
      "Requirement already satisfied: immutables>=0.9 in /srv/conda/envs/notebook/lib/python3.6/site-packages (from contextvars>=2.1->sniffio>=1.1->anyio<4,>=3.1.0->jupyter-server<2.0.0,>=0.3.0->voila) (0.15)\n",
      "Requirement already satisfied: ptyprocess in /srv/conda/envs/notebook/lib/python3.6/site-packages (from terminado>=0.8.3->jupyter-server<2.0.0,>=0.3.0->voila) (0.7.0)\n",
      "Requirement already satisfied: decorator in /srv/conda/envs/notebook/lib/python3.6/site-packages (from traitlets->jupyter-client<7,>=6.1.3->voila) (4.4.2)\n",
      "Requirement already satisfied: cffi>=1.0.0 in /srv/conda/envs/notebook/lib/python3.6/site-packages (from argon2-cffi->jupyter-server<2.0.0,>=0.3.0->voila) (1.14.6)\n",
      "Requirement already satisfied: pycparser in /srv/conda/envs/notebook/lib/python3.6/site-packages (from cffi>=1.0.0->argon2-cffi->jupyter-server<2.0.0,>=0.3.0->voila) (2.20)\n",
      "Requirement already satisfied: packaging in /srv/conda/envs/notebook/lib/python3.6/site-packages (from bleach->nbconvert<7,>=6.0.0->voila) (21.0)\n",
      "Requirement already satisfied: webencodings in /srv/conda/envs/notebook/lib/python3.6/site-packages (from bleach->nbconvert<7,>=6.0.0->voila) (0.5.1)\n",
      "Requirement already satisfied: zipp>=0.5 in /srv/conda/envs/notebook/lib/python3.6/site-packages (from importlib-metadata->jsonschema!=2.5.0,>=2.4->nbformat->jupyter-server<2.0.0,>=0.3.0->voila) (3.5.0)\n",
      "Requirement already satisfied: pyparsing>=2.0.2 in /srv/conda/envs/notebook/lib/python3.6/site-packages (from packaging->bleach->nbconvert<7,>=6.0.0->voila) (2.4.7)\n",
      "Requirement already satisfied: requests>=1.1 in /srv/conda/envs/notebook/lib/python3.6/site-packages (from requests-unixsocket->jupyter-server<2.0.0,>=0.3.0->voila) (2.26.0)\n",
      "Requirement already satisfied: urllib3>=1.8 in /srv/conda/envs/notebook/lib/python3.6/site-packages (from requests-unixsocket->jupyter-server<2.0.0,>=0.3.0->voila) (1.26.6)\n",
      "Requirement already satisfied: certifi>=2017.4.17 in /srv/conda/envs/notebook/lib/python3.6/site-packages (from requests>=1.1->requests-unixsocket->jupyter-server<2.0.0,>=0.3.0->voila) (2021.5.30)\n",
      "Requirement already satisfied: charset-normalizer~=2.0.0 in /srv/conda/envs/notebook/lib/python3.6/site-packages (from requests>=1.1->requests-unixsocket->jupyter-server<2.0.0,>=0.3.0->voila) (2.0.0)\n",
      "Note: you may need to restart the kernel to use updated packages.\n"
     ]
    }
   ],
   "source": [
    "pip install voila"
   ]
  },
  {
   "cell_type": "code",
   "execution_count": 5,
   "metadata": {},
   "outputs": [],
   "source": [
    "## This block will install the primary library for this project, tensorflow"
   ]
  },
  {
   "cell_type": "code",
   "execution_count": 6,
   "metadata": {},
   "outputs": [
    {
     "name": "stdout",
     "output_type": "stream",
     "text": [
      "Requirement already satisfied: tensorflow in /srv/conda/envs/notebook/lib/python3.6/site-packages (2.6.0)\n",
      "Requirement already satisfied: six~=1.15.0 in /srv/conda/envs/notebook/lib/python3.6/site-packages (from tensorflow) (1.15.0)\n",
      "Requirement already satisfied: tensorboard~=2.6 in /srv/conda/envs/notebook/lib/python3.6/site-packages (from tensorflow) (2.6.0)\n",
      "Requirement already satisfied: termcolor~=1.1.0 in /srv/conda/envs/notebook/lib/python3.6/site-packages (from tensorflow) (1.1.0)\n",
      "Requirement already satisfied: google-pasta~=0.2 in /srv/conda/envs/notebook/lib/python3.6/site-packages (from tensorflow) (0.2.0)\n",
      "Requirement already satisfied: grpcio<2.0,>=1.37.0 in /srv/conda/envs/notebook/lib/python3.6/site-packages (from tensorflow) (1.41.0)\n",
      "Requirement already satisfied: astunparse~=1.6.3 in /srv/conda/envs/notebook/lib/python3.6/site-packages (from tensorflow) (1.6.3)\n",
      "Requirement already satisfied: numpy~=1.19.2 in /srv/conda/envs/notebook/lib/python3.6/site-packages (from tensorflow) (1.19.5)\n",
      "Requirement already satisfied: typing-extensions~=3.7.4 in /srv/conda/envs/notebook/lib/python3.6/site-packages (from tensorflow) (3.7.4.3)\n",
      "Requirement already satisfied: keras~=2.6 in /srv/conda/envs/notebook/lib/python3.6/site-packages (from tensorflow) (2.6.0)\n",
      "Requirement already satisfied: keras-preprocessing~=1.1.2 in /srv/conda/envs/notebook/lib/python3.6/site-packages (from tensorflow) (1.1.2)\n",
      "Requirement already satisfied: opt-einsum~=3.3.0 in /srv/conda/envs/notebook/lib/python3.6/site-packages (from tensorflow) (3.3.0)\n",
      "Requirement already satisfied: flatbuffers~=1.12.0 in /srv/conda/envs/notebook/lib/python3.6/site-packages (from tensorflow) (1.12)\n",
      "Requirement already satisfied: wheel~=0.35 in /srv/conda/envs/notebook/lib/python3.6/site-packages (from tensorflow) (0.36.2)\n",
      "Requirement already satisfied: wrapt~=1.12.1 in /srv/conda/envs/notebook/lib/python3.6/site-packages (from tensorflow) (1.12.1)\n",
      "Requirement already satisfied: gast==0.4.0 in /srv/conda/envs/notebook/lib/python3.6/site-packages (from tensorflow) (0.4.0)\n",
      "Requirement already satisfied: tensorflow-estimator~=2.6 in /srv/conda/envs/notebook/lib/python3.6/site-packages (from tensorflow) (2.6.0)\n",
      "Requirement already satisfied: h5py~=3.1.0 in /srv/conda/envs/notebook/lib/python3.6/site-packages (from tensorflow) (3.1.0)\n",
      "Requirement already satisfied: absl-py~=0.10 in /srv/conda/envs/notebook/lib/python3.6/site-packages (from tensorflow) (0.14.1)\n",
      "Requirement already satisfied: clang~=5.0 in /srv/conda/envs/notebook/lib/python3.6/site-packages (from tensorflow) (5.0)\n",
      "Requirement already satisfied: protobuf>=3.9.2 in /srv/conda/envs/notebook/lib/python3.6/site-packages (from tensorflow) (3.18.1)\n",
      "Requirement already satisfied: cached-property in /srv/conda/envs/notebook/lib/python3.6/site-packages (from h5py~=3.1.0->tensorflow) (1.5.2)\n",
      "Requirement already satisfied: markdown>=2.6.8 in /srv/conda/envs/notebook/lib/python3.6/site-packages (from tensorboard~=2.6->tensorflow) (3.3.4)\n",
      "Requirement already satisfied: tensorboard-plugin-wit>=1.6.0 in /srv/conda/envs/notebook/lib/python3.6/site-packages (from tensorboard~=2.6->tensorflow) (1.8.0)\n",
      "Requirement already satisfied: werkzeug>=0.11.15 in /srv/conda/envs/notebook/lib/python3.6/site-packages (from tensorboard~=2.6->tensorflow) (2.0.2)\n",
      "Requirement already satisfied: requests<3,>=2.21.0 in /srv/conda/envs/notebook/lib/python3.6/site-packages (from tensorboard~=2.6->tensorflow) (2.26.0)\n",
      "Requirement already satisfied: tensorboard-data-server<0.7.0,>=0.6.0 in /srv/conda/envs/notebook/lib/python3.6/site-packages (from tensorboard~=2.6->tensorflow) (0.6.1)\n",
      "Requirement already satisfied: google-auth-oauthlib<0.5,>=0.4.1 in /srv/conda/envs/notebook/lib/python3.6/site-packages (from tensorboard~=2.6->tensorflow) (0.4.6)\n",
      "Requirement already satisfied: google-auth<2,>=1.6.3 in /srv/conda/envs/notebook/lib/python3.6/site-packages (from tensorboard~=2.6->tensorflow) (1.35.0)\n",
      "Requirement already satisfied: setuptools>=41.0.0 in /srv/conda/envs/notebook/lib/python3.6/site-packages (from tensorboard~=2.6->tensorflow) (49.6.0.post20210108)\n",
      "Requirement already satisfied: cachetools<5.0,>=2.0.0 in /srv/conda/envs/notebook/lib/python3.6/site-packages (from google-auth<2,>=1.6.3->tensorboard~=2.6->tensorflow) (4.2.4)\n",
      "Requirement already satisfied: rsa<5,>=3.1.4 in /srv/conda/envs/notebook/lib/python3.6/site-packages (from google-auth<2,>=1.6.3->tensorboard~=2.6->tensorflow) (4.7.2)\n",
      "Requirement already satisfied: pyasn1-modules>=0.2.1 in /srv/conda/envs/notebook/lib/python3.6/site-packages (from google-auth<2,>=1.6.3->tensorboard~=2.6->tensorflow) (0.2.8)\n",
      "Requirement already satisfied: requests-oauthlib>=0.7.0 in /srv/conda/envs/notebook/lib/python3.6/site-packages (from google-auth-oauthlib<0.5,>=0.4.1->tensorboard~=2.6->tensorflow) (1.3.0)\n",
      "Requirement already satisfied: importlib-metadata in /srv/conda/envs/notebook/lib/python3.6/site-packages (from markdown>=2.6.8->tensorboard~=2.6->tensorflow) (4.6.3)\n",
      "Requirement already satisfied: pyasn1<0.5.0,>=0.4.6 in /srv/conda/envs/notebook/lib/python3.6/site-packages (from pyasn1-modules>=0.2.1->google-auth<2,>=1.6.3->tensorboard~=2.6->tensorflow) (0.4.8)\n",
      "Requirement already satisfied: certifi>=2017.4.17 in /srv/conda/envs/notebook/lib/python3.6/site-packages (from requests<3,>=2.21.0->tensorboard~=2.6->tensorflow) (2021.5.30)\n",
      "Requirement already satisfied: urllib3<1.27,>=1.21.1 in /srv/conda/envs/notebook/lib/python3.6/site-packages (from requests<3,>=2.21.0->tensorboard~=2.6->tensorflow) (1.26.6)\n",
      "Requirement already satisfied: charset-normalizer~=2.0.0 in /srv/conda/envs/notebook/lib/python3.6/site-packages (from requests<3,>=2.21.0->tensorboard~=2.6->tensorflow) (2.0.0)\n",
      "Requirement already satisfied: idna<4,>=2.5 in /srv/conda/envs/notebook/lib/python3.6/site-packages (from requests<3,>=2.21.0->tensorboard~=2.6->tensorflow) (3.1)\n",
      "Requirement already satisfied: oauthlib>=3.0.0 in /srv/conda/envs/notebook/lib/python3.6/site-packages (from requests-oauthlib>=0.7.0->google-auth-oauthlib<0.5,>=0.4.1->tensorboard~=2.6->tensorflow) (3.1.1)\n",
      "Requirement already satisfied: dataclasses in /srv/conda/envs/notebook/lib/python3.6/site-packages (from werkzeug>=0.11.15->tensorboard~=2.6->tensorflow) (0.8)\n",
      "Requirement already satisfied: zipp>=0.5 in /srv/conda/envs/notebook/lib/python3.6/site-packages (from importlib-metadata->markdown>=2.6.8->tensorboard~=2.6->tensorflow) (3.5.0)\n",
      "Note: you may need to restart the kernel to use updated packages.\n"
     ]
    }
   ],
   "source": [
    "pip install tensorflow"
   ]
  },
  {
   "cell_type": "code",
   "execution_count": 7,
   "metadata": {},
   "outputs": [],
   "source": [
    "## This block installs a package called seaborn, which makes our visualizations look better"
   ]
  },
  {
   "cell_type": "code",
   "execution_count": 8,
   "metadata": {},
   "outputs": [
    {
     "name": "stdout",
     "output_type": "stream",
     "text": [
      "Requirement already satisfied: seaborn in /srv/conda/envs/notebook/lib/python3.6/site-packages (0.11.2)\n",
      "Requirement already satisfied: matplotlib>=2.2 in /srv/conda/envs/notebook/lib/python3.6/site-packages (from seaborn) (3.3.4)\n",
      "Requirement already satisfied: scipy>=1.0 in /srv/conda/envs/notebook/lib/python3.6/site-packages (from seaborn) (1.5.3)\n",
      "Requirement already satisfied: numpy>=1.15 in /srv/conda/envs/notebook/lib/python3.6/site-packages (from seaborn) (1.19.5)\n",
      "Requirement already satisfied: pandas>=0.23 in /srv/conda/envs/notebook/lib/python3.6/site-packages (from seaborn) (1.1.5)\n",
      "Requirement already satisfied: cycler>=0.10 in /srv/conda/envs/notebook/lib/python3.6/site-packages/cycler-0.10.0-py3.6.egg (from matplotlib>=2.2->seaborn) (0.10.0)\n",
      "Requirement already satisfied: pillow>=6.2.0 in /srv/conda/envs/notebook/lib/python3.6/site-packages (from matplotlib>=2.2->seaborn) (8.3.1)\n",
      "Requirement already satisfied: pyparsing!=2.0.4,!=2.1.2,!=2.1.6,>=2.0.3 in /srv/conda/envs/notebook/lib/python3.6/site-packages (from matplotlib>=2.2->seaborn) (2.4.7)\n",
      "Requirement already satisfied: kiwisolver>=1.0.1 in /srv/conda/envs/notebook/lib/python3.6/site-packages (from matplotlib>=2.2->seaborn) (1.3.1)\n",
      "Requirement already satisfied: python-dateutil>=2.1 in /srv/conda/envs/notebook/lib/python3.6/site-packages (from matplotlib>=2.2->seaborn) (2.8.2)\n",
      "Requirement already satisfied: six in /srv/conda/envs/notebook/lib/python3.6/site-packages (from cycler>=0.10->matplotlib>=2.2->seaborn) (1.15.0)\n",
      "Requirement already satisfied: pytz>=2017.2 in /srv/conda/envs/notebook/lib/python3.6/site-packages (from pandas>=0.23->seaborn) (2021.1)\n",
      "Note: you may need to restart the kernel to use updated packages.\n"
     ]
    }
   ],
   "source": [
    "pip install seaborn"
   ]
  },
  {
   "cell_type": "code",
   "execution_count": 9,
   "metadata": {},
   "outputs": [],
   "source": [
    "## This block is a chunk of imports that retrieves the remaining packages needed for the project"
   ]
  },
  {
   "cell_type": "code",
   "execution_count": 10,
   "metadata": {},
   "outputs": [],
   "source": [
    "# pandas, io, and ipywidgets imported above\n",
    "import numpy as np\n",
    "import matplotlib.pyplot as plt\n",
    "import tensorflow as tf\n",
    "from tensorflow import keras\n",
    "from tensorflow.keras import Sequential\n",
    "from tensorflow.keras.layers import Flatten, Dense, Softmax\n",
    "from tensorflow.keras import optimizers\n",
    "from sklearn.model_selection import train_test_split\n",
    "from sklearn.preprocessing import StandardScaler\n",
    "from sklearn.metrics import mean_absolute_error\n",
    "import seaborn as sns\n",
    "sns.set(style=\"whitegrid\")"
   ]
  },
  {
   "cell_type": "code",
   "execution_count": 11,
   "metadata": {},
   "outputs": [],
   "source": [
    "# We begin our analysis with a descriptive overview of our data"
   ]
  },
  {
   "cell_type": "code",
   "execution_count": 12,
   "metadata": {},
   "outputs": [],
   "source": [
    "## A tableview of descriptive statistics (DESCRIPTIVE VISUALIZATION 1)"
   ]
  },
  {
   "cell_type": "code",
   "execution_count": 13,
   "metadata": {},
   "outputs": [
    {
     "data": {
      "text/html": [
       "<div>\n",
       "<style scoped>\n",
       "    .dataframe tbody tr th:only-of-type {\n",
       "        vertical-align: middle;\n",
       "    }\n",
       "\n",
       "    .dataframe tbody tr th {\n",
       "        vertical-align: top;\n",
       "    }\n",
       "\n",
       "    .dataframe thead th {\n",
       "        text-align: right;\n",
       "    }\n",
       "</style>\n",
       "<table border=\"1\" class=\"dataframe\">\n",
       "  <thead>\n",
       "    <tr style=\"text-align: right;\">\n",
       "      <th></th>\n",
       "      <th>fixed acidity</th>\n",
       "      <th>volatile acidity</th>\n",
       "      <th>citric acid</th>\n",
       "      <th>residual sugar</th>\n",
       "      <th>chlorides</th>\n",
       "      <th>free sulfur dioxide</th>\n",
       "      <th>total sulfur dioxide</th>\n",
       "      <th>density</th>\n",
       "      <th>pH</th>\n",
       "      <th>sulphates</th>\n",
       "      <th>alcohol</th>\n",
       "      <th>quality</th>\n",
       "    </tr>\n",
       "  </thead>\n",
       "  <tbody>\n",
       "    <tr>\n",
       "      <th>count</th>\n",
       "      <td>6463.000000</td>\n",
       "      <td>6463.000000</td>\n",
       "      <td>6463.000000</td>\n",
       "      <td>6463.000000</td>\n",
       "      <td>6463.000000</td>\n",
       "      <td>6463.000000</td>\n",
       "      <td>6463.000000</td>\n",
       "      <td>6463.000000</td>\n",
       "      <td>6463.000000</td>\n",
       "      <td>6463.000000</td>\n",
       "      <td>6463.000000</td>\n",
       "      <td>6463.000000</td>\n",
       "    </tr>\n",
       "    <tr>\n",
       "      <th>mean</th>\n",
       "      <td>7.217755</td>\n",
       "      <td>0.339589</td>\n",
       "      <td>0.318758</td>\n",
       "      <td>5.443958</td>\n",
       "      <td>0.056056</td>\n",
       "      <td>30.516865</td>\n",
       "      <td>115.694492</td>\n",
       "      <td>0.994698</td>\n",
       "      <td>3.218332</td>\n",
       "      <td>0.531150</td>\n",
       "      <td>10.492825</td>\n",
       "      <td>5.818505</td>\n",
       "    </tr>\n",
       "    <tr>\n",
       "      <th>std</th>\n",
       "      <td>1.297913</td>\n",
       "      <td>0.164639</td>\n",
       "      <td>0.145252</td>\n",
       "      <td>4.756852</td>\n",
       "      <td>0.035076</td>\n",
       "      <td>17.758815</td>\n",
       "      <td>56.526736</td>\n",
       "      <td>0.003001</td>\n",
       "      <td>0.160650</td>\n",
       "      <td>0.148913</td>\n",
       "      <td>1.193128</td>\n",
       "      <td>0.873286</td>\n",
       "    </tr>\n",
       "    <tr>\n",
       "      <th>min</th>\n",
       "      <td>3.800000</td>\n",
       "      <td>0.080000</td>\n",
       "      <td>0.000000</td>\n",
       "      <td>0.600000</td>\n",
       "      <td>0.009000</td>\n",
       "      <td>1.000000</td>\n",
       "      <td>6.000000</td>\n",
       "      <td>0.987110</td>\n",
       "      <td>2.720000</td>\n",
       "      <td>0.220000</td>\n",
       "      <td>8.000000</td>\n",
       "      <td>3.000000</td>\n",
       "    </tr>\n",
       "    <tr>\n",
       "      <th>25%</th>\n",
       "      <td>6.400000</td>\n",
       "      <td>0.230000</td>\n",
       "      <td>0.250000</td>\n",
       "      <td>1.800000</td>\n",
       "      <td>0.038000</td>\n",
       "      <td>17.000000</td>\n",
       "      <td>77.000000</td>\n",
       "      <td>0.992330</td>\n",
       "      <td>3.110000</td>\n",
       "      <td>0.430000</td>\n",
       "      <td>9.500000</td>\n",
       "      <td>5.000000</td>\n",
       "    </tr>\n",
       "    <tr>\n",
       "      <th>50%</th>\n",
       "      <td>7.000000</td>\n",
       "      <td>0.290000</td>\n",
       "      <td>0.310000</td>\n",
       "      <td>3.000000</td>\n",
       "      <td>0.047000</td>\n",
       "      <td>29.000000</td>\n",
       "      <td>118.000000</td>\n",
       "      <td>0.994890</td>\n",
       "      <td>3.210000</td>\n",
       "      <td>0.510000</td>\n",
       "      <td>10.300000</td>\n",
       "      <td>6.000000</td>\n",
       "    </tr>\n",
       "    <tr>\n",
       "      <th>75%</th>\n",
       "      <td>7.700000</td>\n",
       "      <td>0.400000</td>\n",
       "      <td>0.390000</td>\n",
       "      <td>8.100000</td>\n",
       "      <td>0.065000</td>\n",
       "      <td>41.000000</td>\n",
       "      <td>156.000000</td>\n",
       "      <td>0.997000</td>\n",
       "      <td>3.320000</td>\n",
       "      <td>0.600000</td>\n",
       "      <td>11.300000</td>\n",
       "      <td>6.000000</td>\n",
       "    </tr>\n",
       "    <tr>\n",
       "      <th>max</th>\n",
       "      <td>15.900000</td>\n",
       "      <td>1.580000</td>\n",
       "      <td>1.660000</td>\n",
       "      <td>65.800000</td>\n",
       "      <td>0.611000</td>\n",
       "      <td>289.000000</td>\n",
       "      <td>440.000000</td>\n",
       "      <td>1.038980</td>\n",
       "      <td>4.010000</td>\n",
       "      <td>2.000000</td>\n",
       "      <td>14.900000</td>\n",
       "      <td>9.000000</td>\n",
       "    </tr>\n",
       "  </tbody>\n",
       "</table>\n",
       "</div>"
      ],
      "text/plain": [
       "       fixed acidity  volatile acidity  citric acid  residual sugar  \\\n",
       "count    6463.000000       6463.000000  6463.000000     6463.000000   \n",
       "mean        7.217755          0.339589     0.318758        5.443958   \n",
       "std         1.297913          0.164639     0.145252        4.756852   \n",
       "min         3.800000          0.080000     0.000000        0.600000   \n",
       "25%         6.400000          0.230000     0.250000        1.800000   \n",
       "50%         7.000000          0.290000     0.310000        3.000000   \n",
       "75%         7.700000          0.400000     0.390000        8.100000   \n",
       "max        15.900000          1.580000     1.660000       65.800000   \n",
       "\n",
       "         chlorides  free sulfur dioxide  total sulfur dioxide      density  \\\n",
       "count  6463.000000          6463.000000           6463.000000  6463.000000   \n",
       "mean      0.056056            30.516865            115.694492     0.994698   \n",
       "std       0.035076            17.758815             56.526736     0.003001   \n",
       "min       0.009000             1.000000              6.000000     0.987110   \n",
       "25%       0.038000            17.000000             77.000000     0.992330   \n",
       "50%       0.047000            29.000000            118.000000     0.994890   \n",
       "75%       0.065000            41.000000            156.000000     0.997000   \n",
       "max       0.611000           289.000000            440.000000     1.038980   \n",
       "\n",
       "                pH    sulphates      alcohol      quality  \n",
       "count  6463.000000  6463.000000  6463.000000  6463.000000  \n",
       "mean      3.218332     0.531150    10.492825     5.818505  \n",
       "std       0.160650     0.148913     1.193128     0.873286  \n",
       "min       2.720000     0.220000     8.000000     3.000000  \n",
       "25%       3.110000     0.430000     9.500000     5.000000  \n",
       "50%       3.210000     0.510000    10.300000     6.000000  \n",
       "75%       3.320000     0.600000    11.300000     6.000000  \n",
       "max       4.010000     2.000000    14.900000     9.000000  "
      ]
     },
     "execution_count": 13,
     "metadata": {},
     "output_type": "execute_result"
    }
   ],
   "source": [
    "#Define the quality_score variable as the last field of our table\n",
    "quality_score = df['quality']\n",
    "#Utilizing a built-in data cleaning technique to drop null values from the frame\n",
    "df.dropna(inplace=True)\n",
    "#Generate a table of descriptive statistics for EACH numeric variable\n",
    "df.describe()"
   ]
  },
  {
   "cell_type": "code",
   "execution_count": 14,
   "metadata": {},
   "outputs": [],
   "source": [
    "## Quality score distribution (DESCRIPTIVE VISUALIZATION 2)"
   ]
  },
  {
   "cell_type": "code",
   "execution_count": 15,
   "metadata": {},
   "outputs": [
    {
     "data": {
      "text/plain": [
       "(array([ 246., 2138., 2836., 1079.,  198.]),\n",
       " array([3. , 4.2, 5.4, 6.6, 7.8, 9. ]),\n",
       " <BarContainer object of 5 artists>)"
      ]
     },
     "execution_count": 15,
     "metadata": {},
     "output_type": "execute_result"
    },
    {
     "data": {
      "image/png": "[encoded data removed]",
      "text/plain": [
       "<Figure size 432x288 with 1 Axes>"
      ]
     },
     "metadata": {},
     "output_type": "display_data"
    }
   ],
   "source": [
    "# Display a histogram showcasing the distribution of quality scores throughout the dataset\n",
    "plt.hist(quality_score, bins = 5)"
   ]
  },
  {
   "cell_type": "code",
   "execution_count": 16,
   "metadata": {},
   "outputs": [],
   "source": [
    "## Heatmap of correlation values between chemical attributes (DESCRIPTIVE VISUALIZATION 3)"
   ]
  },
  {
   "cell_type": "code",
   "execution_count": 17,
   "metadata": {},
   "outputs": [
    {
     "data": {
      "text/plain": [
       "<AxesSubplot:>"
      ]
     },
     "execution_count": 17,
     "metadata": {},
     "output_type": "execute_result"
    },
    {
     "data": {
      "image/png": "[encoded data removed]",
      "text/plain": [
       "<Figure size 864x864 with 2 Axes>"
      ]
     },
     "metadata": {},
     "output_type": "display_data"
    }
   ],
   "source": [
    "# Create a heatmap display showing the correlation coefficients for each variable\n",
    "plt.figure(figsize = (12, 12))\n",
    "train_corr = df.corr()\n",
    "sns.heatmap(train_corr, cmap = \"coolwarm\", annot=True, fmt='.1f', linewidths = 0.05)"
   ]
  },
  {
   "cell_type": "code",
   "execution_count": 18,
   "metadata": {},
   "outputs": [],
   "source": [
    "## A scatterplot of quality score vs alcohol content (DESCRIPTIVE VISUALIZATION 4)"
   ]
  },
  {
   "cell_type": "code",
   "execution_count": 19,
   "metadata": {},
   "outputs": [
    {
     "data": {
      "text/plain": [
       "<seaborn.axisgrid.FacetGrid at 0x7f1c5b7621d0>"
      ]
     },
     "execution_count": 19,
     "metadata": {},
     "output_type": "execute_result"
    },
    {
     "data": {
      "image/png": "[encoded data removed]",
      "text/plain": [
       "<Figure size 360x360 with 1 Axes>"
      ]
     },
     "metadata": {},
     "output_type": "display_data"
    }
   ],
   "source": [
    "#Alcohol content has the strongest correlation to quality, so lets see a display of that\n",
    "sns.lmplot(x = \"alcohol\", y = \"quality\", data = df)"
   ]
  },
  {
   "cell_type": "code",
   "execution_count": 20,
   "metadata": {},
   "outputs": [],
   "source": [
    "# With our new descriptive understanding, we continute to creating a predictive model for our data"
   ]
  },
  {
   "cell_type": "code",
   "execution_count": 21,
   "metadata": {},
   "outputs": [],
   "source": [
    "## Prepare data for analysis by a dense neural network"
   ]
  },
  {
   "cell_type": "code",
   "execution_count": 22,
   "metadata": {},
   "outputs": [],
   "source": [
    "# Separate the dataset into the chemical variables (input) and quality variable (output)\n",
    "x = pd.DataFrame(columns=['fixed acidity', 'volatile acidity', 'citric acid', 'residual sugar', 'chlorides', 'free sulfur dioxide'\n",
    "                         , 'total sulfur dioxide', 'density', 'pH', 'sulphates', 'alcohol'], data = df)\n",
    "y = pd.DataFrame(columns = ['quality'], data = df)\n",
    "\n",
    "\n",
    "# Divide the data into testing and training components\n",
    "x_train, x_test, y_train, y_test = train_test_split(x, y, test_size = 0.2, random_state = 0)\n",
    "\n",
    "# Standardize features \n",
    "scaler = StandardScaler()\n",
    "x_train = scaler.fit_transform(x_train)\n",
    "x_test = scaler.transform(x_test)\n",
    "\n",
    "\n"
   ]
  },
  {
   "cell_type": "code",
   "execution_count": 23,
   "metadata": {},
   "outputs": [],
   "source": [
    "## Creating the DNN architecture"
   ]
  },
  {
   "cell_type": "code",
   "execution_count": 24,
   "metadata": {},
   "outputs": [],
   "source": [
    "model = Sequential()\n",
    "\n",
    "#Input\n",
    "model.add(Dense(x.shape[1], activation='relu', input_dim = x.shape[1]))\n",
    "\n",
    "#Hidden\n",
    "model.add(Dense(512,kernel_initializer='normal', activation='relu'))\n",
    "model.add(Dense(256,kernel_initializer='normal', activation='relu'))\n",
    "model.add(Dense(128,kernel_initializer='normal', activation='relu'))\n",
    "model.add(Dense(64,kernel_initializer='normal', activation='relu'))\n",
    "model.add(Dense(32,kernel_initializer='normal', activation='relu'))\n",
    "#Output\n",
    "model.add(Dense(1,kernel_initializer='normal', activation = 'relu'))\n"
   ]
  },
  {
   "cell_type": "code",
   "execution_count": 25,
   "metadata": {},
   "outputs": [
    {
     "name": "stdout",
     "output_type": "stream",
     "text": [
      "Model: \"sequential\"\n",
      "_________________________________________________________________\n",
      "Layer (type)                 Output Shape              Param #   \n",
      "=================================================================\n",
      "dense (Dense)                (None, 11)                132       \n",
      "_________________________________________________________________\n",
      "dense_1 (Dense)              (None, 512)               6144      \n",
      "_________________________________________________________________\n",
      "dense_2 (Dense)              (None, 256)               131328    \n",
      "_________________________________________________________________\n",
      "dense_3 (Dense)              (None, 128)               32896     \n",
      "_________________________________________________________________\n",
      "dense_4 (Dense)              (None, 64)                8256      \n",
      "_________________________________________________________________\n",
      "dense_5 (Dense)              (None, 32)                2080      \n",
      "_________________________________________________________________\n",
      "dense_6 (Dense)              (None, 1)                 33        \n",
      "=================================================================\n",
      "Total params: 180,869\n",
      "Trainable params: 180,869\n",
      "Non-trainable params: 0\n",
      "_________________________________________________________________\n"
     ]
    }
   ],
   "source": [
    "# Compile the model, adam optimizer, loss = mean squared error, metrics mean squared error and mean absolute error\n",
    "model.compile(loss = 'mse', optimizer = 'adam', metrics = ['mse', 'mae'])\n",
    "\n",
    "# View a summary of the model\n",
    "model.summary()"
   ]
  },
  {
   "cell_type": "code",
   "execution_count": 26,
   "metadata": {},
   "outputs": [],
   "source": [
    "## Model is trained in the cell below, technical staff may adjust batch size and number of epochs to yield different prediction accuracy. \n",
    "## Model architecture may also be adjusted to reduce training time if imprecise predictions are needed rapidly. \n"
   ]
  },
  {
   "cell_type": "code",
   "execution_count": 27,
   "metadata": {},
   "outputs": [
    {
     "name": "stdout",
     "output_type": "stream",
     "text": [
      "Epoch 1/100\n",
      "517/517 [==============================] - 4s 7ms/step - loss: 2.6229 - mse: 2.6229 - mae: 1.0577\n",
      "Epoch 2/100\n",
      "517/517 [==============================] - 4s 7ms/step - loss: 0.6651 - mse: 0.6651 - mae: 0.6355\n",
      "Epoch 3/100\n",
      "517/517 [==============================] - 4s 7ms/step - loss: 0.6284 - mse: 0.6284 - mae: 0.6176\n",
      "Epoch 4/100\n",
      "517/517 [==============================] - 4s 7ms/step - loss: 0.6379 - mse: 0.6379 - mae: 0.6246\n",
      "Epoch 5/100\n",
      "517/517 [==============================] - 4s 7ms/step - loss: 0.6105 - mse: 0.6105 - mae: 0.6094\n",
      "Epoch 6/100\n",
      "517/517 [==============================] - 4s 7ms/step - loss: 0.5721 - mse: 0.5721 - mae: 0.5859\n",
      "Epoch 7/100\n",
      "517/517 [==============================] - 4s 7ms/step - loss: 0.5711 - mse: 0.5711 - mae: 0.5904\n",
      "Epoch 8/100\n",
      "517/517 [==============================] - 4s 7ms/step - loss: 0.5575 - mse: 0.5575 - mae: 0.5804\n",
      "Epoch 9/100\n",
      "517/517 [==============================] - 4s 7ms/step - loss: 0.5504 - mse: 0.5504 - mae: 0.5798\n",
      "Epoch 10/100\n",
      "517/517 [==============================] - 4s 7ms/step - loss: 0.5305 - mse: 0.5305 - mae: 0.5665A: 3s - loss: 0\n",
      "Epoch 11/100\n",
      "517/517 [==============================] - 4s 7ms/step - loss: 0.5348 - mse: 0.5348 - mae: 0.5699\n",
      "Epoch 12/100\n",
      "517/517 [==============================] - 4s 7ms/step - loss: 0.5302 - mse: 0.5302 - mae: 0.5658\n",
      "Epoch 13/100\n",
      "517/517 [==============================] - 4s 7ms/step - loss: 0.5156 - mse: 0.5156 - mae: 0.5575\n",
      "Epoch 14/100\n",
      "517/517 [==============================] - 4s 7ms/step - loss: 0.5132 - mse: 0.5132 - mae: 0.5577\n",
      "Epoch 15/100\n",
      "517/517 [==============================] - 4s 7ms/step - loss: 0.5199 - mse: 0.5199 - mae: 0.5601\n",
      "Epoch 16/100\n",
      "517/517 [==============================] - 4s 7ms/step - loss: 0.5004 - mse: 0.5004 - mae: 0.5498\n",
      "Epoch 17/100\n",
      "517/517 [==============================] - 4s 7ms/step - loss: 0.4970 - mse: 0.4970 - mae: 0.5488\n",
      "Epoch 18/100\n",
      "517/517 [==============================] - 4s 7ms/step - loss: 0.4985 - mse: 0.4985 - mae: 0.5471A: 0s - loss: 0.5005 - mse: 0.5005 - ma\n",
      "Epoch 19/100\n",
      "517/517 [==============================] - 4s 7ms/step - loss: 0.4829 - mse: 0.4829 - mae: 0.5421\n",
      "Epoch 20/100\n",
      "517/517 [==============================] - 4s 8ms/step - loss: 0.4843 - mse: 0.4843 - mae: 0.5446\n",
      "Epoch 21/100\n",
      "517/517 [==============================] - 4s 8ms/step - loss: 0.4763 - mse: 0.4763 - mae: 0.5362\n",
      "Epoch 22/100\n",
      "517/517 [==============================] - 4s 8ms/step - loss: 0.4699 - mse: 0.4699 - mae: 0.5342\n",
      "Epoch 23/100\n",
      "517/517 [==============================] - 4s 8ms/step - loss: 0.4790 - mse: 0.4790 - mae: 0.5400\n",
      "Epoch 24/100\n",
      "517/517 [==============================] - 4s 8ms/step - loss: 0.4728 - mse: 0.4728 - mae: 0.5348A: 0s - loss: 0.4702 - mse: 0.4702 - mae: 0.5\n",
      "Epoch 25/100\n",
      "517/517 [==============================] - 4s 7ms/step - loss: 0.4476 - mse: 0.4476 - mae: 0.5222\n",
      "Epoch 26/100\n",
      "517/517 [==============================] - 4s 7ms/step - loss: 0.4489 - mse: 0.4489 - mae: 0.5229\n",
      "Epoch 27/100\n",
      "517/517 [==============================] - 4s 7ms/step - loss: 0.4591 - mse: 0.4591 - mae: 0.5281\n",
      "Epoch 28/100\n",
      "517/517 [==============================] - 4s 7ms/step - loss: 0.4543 - mse: 0.4543 - mae: 0.5270\n",
      "Epoch 29/100\n",
      "517/517 [==============================] - 4s 7ms/step - loss: 0.4401 - mse: 0.4401 - mae: 0.5161A: 4s -\n",
      "Epoch 30/100\n",
      "517/517 [==============================] - 4s 7ms/step - loss: 0.4569 - mse: 0.4569 - mae: 0.5268\n",
      "Epoch 31/100\n",
      "517/517 [==============================] - 4s 8ms/step - loss: 0.4413 - mse: 0.4413 - mae: 0.5187\n",
      "Epoch 32/100\n",
      "517/517 [==============================] - 4s 8ms/step - loss: 0.4453 - mse: 0.4453 - mae: 0.5205\n",
      "Epoch 33/100\n",
      "517/517 [==============================] - 4s 7ms/step - loss: 0.4366 - mse: 0.4366 - mae: 0.5157\n",
      "Epoch 34/100\n",
      "517/517 [==============================] - 4s 7ms/step - loss: 0.4271 - mse: 0.4271 - mae: 0.5099\n",
      "Epoch 35/100\n",
      "517/517 [==============================] - 4s 7ms/step - loss: 0.4364 - mse: 0.4364 - mae: 0.5167\n",
      "Epoch 36/100\n",
      "517/517 [==============================] - 4s 8ms/step - loss: 0.4306 - mse: 0.4306 - mae: 0.5099\n",
      "Epoch 37/100\n",
      "517/517 [==============================] - 4s 7ms/step - loss: 0.4239 - mse: 0.4239 - mae: 0.5091\n",
      "Epoch 38/100\n",
      "517/517 [==============================] - 4s 7ms/step - loss: 0.4313 - mse: 0.4313 - mae: 0.5123\n",
      "Epoch 39/100\n",
      "517/517 [==============================] - 4s 7ms/step - loss: 0.4237 - mse: 0.4237 - mae: 0.5067\n",
      "Epoch 40/100\n",
      "517/517 [==============================] - 4s 7ms/step - loss: 0.4088 - mse: 0.4088 - mae: 0.5000\n",
      "Epoch 41/100\n",
      "517/517 [==============================] - 4s 7ms/step - loss: 0.4004 - mse: 0.4004 - mae: 0.4950\n",
      "Epoch 42/100\n",
      "517/517 [==============================] - 4s 7ms/step - loss: 0.4110 - mse: 0.4110 - mae: 0.4995\n",
      "Epoch 43/100\n",
      "517/517 [==============================] - 4s 8ms/step - loss: 0.4164 - mse: 0.4164 - mae: 0.5001\n",
      "Epoch 44/100\n",
      "517/517 [==============================] - 4s 7ms/step - loss: 0.4008 - mse: 0.4008 - mae: 0.4914\n",
      "Epoch 45/100\n",
      "517/517 [==============================] - 4s 7ms/step - loss: 0.3987 - mse: 0.3987 - mae: 0.4903A: 1s - loss: 0.3943 - mse: 0.\n",
      "Epoch 46/100\n",
      "517/517 [==============================] - 4s 7ms/step - loss: 0.4054 - mse: 0.4054 - mae: 0.4943\n",
      "Epoch 47/100\n",
      "517/517 [==============================] - 4s 7ms/step - loss: 0.3893 - mse: 0.3893 - mae: 0.4865\n",
      "Epoch 48/100\n",
      "517/517 [==============================] - 4s 7ms/step - loss: 0.3947 - mse: 0.3947 - mae: 0.4867\n",
      "Epoch 49/100\n",
      "517/517 [==============================] - 4s 7ms/step - loss: 0.3874 - mse: 0.3874 - mae: 0.4842A: 1s - loss: 0.3915 - mse: \n",
      "Epoch 50/100\n",
      "517/517 [==============================] - 4s 7ms/step - loss: 0.3871 - mse: 0.3871 - mae: 0.4855\n",
      "Epoch 51/100\n",
      "517/517 [==============================] - 4s 8ms/step - loss: 0.3738 - mse: 0.3738 - mae: 0.4775\n",
      "Epoch 52/100\n",
      "517/517 [==============================] - 4s 8ms/step - loss: 0.3736 - mse: 0.3736 - mae: 0.4767\n",
      "Epoch 53/100\n",
      "517/517 [==============================] - 4s 8ms/step - loss: 0.3794 - mse: 0.3794 - mae: 0.4776\n",
      "Epoch 54/100\n",
      "517/517 [==============================] - 4s 8ms/step - loss: 0.3687 - mse: 0.3687 - mae: 0.4722\n",
      "Epoch 55/100\n",
      "517/517 [==============================] - 4s 8ms/step - loss: 0.3709 - mse: 0.3709 - mae: 0.4742\n",
      "Epoch 56/100\n",
      "517/517 [==============================] - 4s 8ms/step - loss: 0.3739 - mse: 0.3739 - mae: 0.4767\n",
      "Epoch 57/100\n",
      "517/517 [==============================] - 4s 8ms/step - loss: 0.3681 - mse: 0.3681 - mae: 0.4712\n",
      "Epoch 58/100\n",
      "517/517 [==============================] - 4s 8ms/step - loss: 0.3631 - mse: 0.3631 - mae: 0.4701\n",
      "Epoch 59/100\n",
      "517/517 [==============================] - 4s 8ms/step - loss: 0.3564 - mse: 0.3564 - mae: 0.4608\n",
      "Epoch 60/100\n",
      "517/517 [==============================] - 4s 8ms/step - loss: 0.3612 - mse: 0.3612 - mae: 0.4658A: 3s - lo\n",
      "Epoch 61/100\n",
      "517/517 [==============================] - 4s 8ms/step - loss: 0.3503 - mse: 0.3503 - mae: 0.4608\n",
      "Epoch 62/100\n",
      "517/517 [==============================] - 4s 8ms/step - loss: 0.3446 - mse: 0.3446 - mae: 0.4566\n",
      "Epoch 63/100\n",
      "517/517 [==============================] - 4s 7ms/step - loss: 0.3430 - mse: 0.3430 - mae: 0.4534\n",
      "Epoch 64/100\n",
      "517/517 [==============================] - 4s 7ms/step - loss: 0.3381 - mse: 0.3381 - mae: 0.4510\n",
      "Epoch 65/100\n",
      "517/517 [==============================] - 4s 7ms/step - loss: 0.3396 - mse: 0.3396 - mae: 0.4518\n",
      "Epoch 66/100\n",
      "517/517 [==============================] - 4s 7ms/step - loss: 0.3304 - mse: 0.3304 - mae: 0.4459\n",
      "Epoch 67/100\n",
      "517/517 [==============================] - 4s 7ms/step - loss: 0.3275 - mse: 0.3275 - mae: 0.4441\n",
      "Epoch 68/100\n",
      "517/517 [==============================] - 4s 7ms/step - loss: 0.3285 - mse: 0.3285 - mae: 0.4449\n",
      "Epoch 69/100\n",
      "517/517 [==============================] - 4s 7ms/step - loss: 0.3215 - mse: 0.3215 - mae: 0.4398\n",
      "Epoch 70/100\n",
      "517/517 [==============================] - 4s 7ms/step - loss: 0.3222 - mse: 0.3222 - mae: 0.4423\n",
      "Epoch 71/100\n",
      "517/517 [==============================] - 4s 8ms/step - loss: 0.3232 - mse: 0.3232 - mae: 0.4403\n",
      "Epoch 72/100\n",
      "517/517 [==============================] - 4s 8ms/step - loss: 0.3247 - mse: 0.3247 - mae: 0.4424A: 0s - loss: 0.3221 - mse: 0.3221 - mae: \n",
      "Epoch 73/100\n",
      "517/517 [==============================] - 4s 8ms/step - loss: 0.3070 - mse: 0.3070 - mae: 0.4291\n",
      "Epoch 74/100\n",
      "517/517 [==============================] - 4s 8ms/step - loss: 0.3119 - mse: 0.3119 - mae: 0.4324A: 1s - loss: 0.3012 - mse: 0.3\n",
      "Epoch 75/100\n",
      "517/517 [==============================] - 4s 8ms/step - loss: 0.3048 - mse: 0.3048 - mae: 0.4260A: 1s - loss: 0.2964 - mse:\n",
      "Epoch 76/100\n",
      "517/517 [==============================] - 4s 7ms/step - loss: 0.3041 - mse: 0.3041 - mae: 0.4265\n",
      "Epoch 77/100\n",
      "517/517 [==============================] - 4s 7ms/step - loss: 0.3072 - mse: 0.3072 - mae: 0.4280\n",
      "Epoch 78/100\n",
      "517/517 [==============================] - 4s 7ms/step - loss: 0.3018 - mse: 0.3018 - mae: 0.4235\n",
      "Epoch 79/100\n",
      "517/517 [==============================] - 4s 7ms/step - loss: 0.2980 - mse: 0.2980 - mae: 0.4227\n",
      "Epoch 80/100\n",
      "517/517 [==============================] - 4s 7ms/step - loss: 0.2858 - mse: 0.2858 - mae: 0.4147\n",
      "Epoch 81/100\n",
      "517/517 [==============================] - 4s 7ms/step - loss: 0.2925 - mse: 0.2925 - mae: 0.4193\n",
      "Epoch 82/100\n",
      "517/517 [==============================] - 4s 7ms/step - loss: 0.2806 - mse: 0.2806 - mae: 0.4059\n",
      "Epoch 83/100\n",
      "517/517 [==============================] - 4s 7ms/step - loss: 0.2847 - mse: 0.2847 - mae: 0.4111\n",
      "Epoch 84/100\n",
      "517/517 [==============================] - 4s 7ms/step - loss: 0.2781 - mse: 0.2781 - mae: 0.4083\n",
      "Epoch 85/100\n",
      "517/517 [==============================] - 4s 7ms/step - loss: 0.2747 - mse: 0.2747 - mae: 0.4028\n",
      "Epoch 86/100\n",
      "517/517 [==============================] - 4s 7ms/step - loss: 0.2676 - mse: 0.2676 - mae: 0.3985\n",
      "Epoch 87/100\n",
      "517/517 [==============================] - 4s 7ms/step - loss: 0.2709 - mse: 0.2709 - mae: 0.3998\n",
      "Epoch 88/100\n",
      "517/517 [==============================] - 4s 7ms/step - loss: 0.2592 - mse: 0.2592 - mae: 0.3896\n",
      "Epoch 89/100\n",
      "517/517 [==============================] - 4s 7ms/step - loss: 0.2613 - mse: 0.2613 - mae: 0.3948\n",
      "Epoch 90/100\n",
      "517/517 [==============================] - 4s 7ms/step - loss: 0.2697 - mse: 0.2697 - mae: 0.3983\n",
      "Epoch 91/100\n",
      "517/517 [==============================] - 4s 7ms/step - loss: 0.2519 - mse: 0.2519 - mae: 0.3860A: 2s - loss: 0.2295 -\n",
      "Epoch 92/100\n",
      "517/517 [==============================] - 4s 7ms/step - loss: 0.2519 - mse: 0.2519 - mae: 0.3858\n",
      "Epoch 93/100\n",
      "517/517 [==============================] - 4s 7ms/step - loss: 0.2449 - mse: 0.2449 - mae: 0.3805\n",
      "Epoch 94/100\n",
      "517/517 [==============================] - 4s 7ms/step - loss: 0.2461 - mse: 0.2461 - mae: 0.3790\n",
      "Epoch 95/100\n",
      "517/517 [==============================] - 4s 7ms/step - loss: 0.2478 - mse: 0.2478 - mae: 0.3820\n",
      "Epoch 96/100\n",
      "517/517 [==============================] - 4s 7ms/step - loss: 0.2381 - mse: 0.2381 - mae: 0.3726\n",
      "Epoch 97/100\n",
      "517/517 [==============================] - 4s 7ms/step - loss: 0.2371 - mse: 0.2371 - mae: 0.3730\n",
      "Epoch 98/100\n",
      "517/517 [==============================] - 4s 7ms/step - loss: 0.2338 - mse: 0.2338 - mae: 0.3692\n",
      "Epoch 99/100\n",
      "517/517 [==============================] - 4s 7ms/step - loss: 0.2286 - mse: 0.2286 - mae: 0.3639\n",
      "Epoch 100/100\n",
      "517/517 [==============================] - 4s 8ms/step - loss: 0.2264 - mse: 0.2264 - mae: 0.3615\n"
     ]
    }
   ],
   "source": [
    "# Train the model and store it in a variable called history for later access\n",
    "history = model.fit(x_train, y_train.to_numpy(), batch_size = 10, epochs = 100, verbose = 1)"
   ]
  },
  {
   "cell_type": "code",
   "execution_count": 28,
   "metadata": {},
   "outputs": [
    {
     "data": {
      "text/plain": [
       "<AxesSubplot:>"
      ]
     },
     "execution_count": 28,
     "metadata": {},
     "output_type": "execute_result"
    },
    {
     "data": {
      "image/png": "[encoded data removed]",
      "text/plain": [
       "<Figure size 432x288 with 1 Axes>"
      ]
     },
     "metadata": {},
     "output_type": "display_data"
    }
   ],
   "source": [
    "# Provides a view of the model's accuracy improvement per epoch. (Lower loss values indicate better accuracy.)\n",
    "losses = pd.DataFrame(history.history)\n",
    "losses.plot()"
   ]
  },
  {
   "cell_type": "code",
   "execution_count": 29,
   "metadata": {},
   "outputs": [
    {
     "data": {
      "text/plain": [
       "array([[5.0627093],\n",
       "       [5.8476963],\n",
       "       [5.6789227],\n",
       "       ...,\n",
       "       [5.0886936],\n",
       "       [5.7850585],\n",
       "       [6.6075764]], dtype=float32)"
      ]
     },
     "execution_count": 29,
     "metadata": {},
     "output_type": "execute_result"
    }
   ],
   "source": [
    "# Predict a quality score for all record in the x_test array. \n",
    "y_pred = model.predict(x_test)\n",
    "y_pred\n"
   ]
  },
  {
   "cell_type": "code",
   "execution_count": 174,
   "metadata": {},
   "outputs": [],
   "source": [
    "# With our trained model, we can now predict custom inputs of chemical data. "
   ]
  },
  {
   "cell_type": "code",
   "execution_count": 175,
   "metadata": {},
   "outputs": [],
   "source": [
    "## Use the sliders below to input the results of a chemical analysis, press \"Calculate\" to recieve a quality prediction. "
   ]
  },
  {
   "cell_type": "code",
   "execution_count": 30,
   "metadata": {},
   "outputs": [
    {
     "data": {
      "application/vnd.jupyter.widget-view+json": {
       "model_id": "09b48435ecbe4e388159c612064a0919",
       "version_major": 2,
       "version_minor": 0
      },
      "text/plain": [
       "Tab(children=(VBox(children=(FloatSlider(value=7.2, description='Fixed Acidity', max=10.0, min=3.8, step=0.01)…"
      ]
     },
     "metadata": {},
     "output_type": "display_data"
    }
   ],
   "source": [
    "#Create the 11 widget sliders for the chemical analysis parameters\n",
    "\n",
    "fixed_acidity = widgets.FloatSlider(value=7.2, min=3.8, max=10.0, step=0.01, description = \"Fixed Acidity\")\n",
    "volatile_acidity = widgets.FloatSlider(value=0.33, min=0.08, max=1.0, step=0.01, description = \"Volatile Acidity\")\n",
    "citric_acid = widgets.FloatSlider(value=0.33, min=0.0, max=1.0, step=0.01, description = \"Citric Acid\")\n",
    "residual_sugar = widgets.FloatSlider(value=5.4, min=1, max=20, step=0.01, description = \"Residual Sugar\")\n",
    "chlorides = widgets.FloatSlider(value=0.05, min=0.01, max=0.1, step=0.001, description = \"Chlorides\")\n",
    "free_SO2 = widgets.IntSlider(value=30, min=1, max=110, step=1, description = \"Free SO2\")\n",
    "total_SO2 = widgets.IntSlider(value=115, min=50, max=225, step=1, description = \"Total SO2\")\n",
    "density = widgets.FloatSlider(value=0.99, min=0.95, max=1.0, step=0.0001, description = \"Density\")\n",
    "pH = widgets.FloatSlider(value=3.2, min=2.75, max=3.80, step=0.01, description = \"pH\")\n",
    "sulfates = widgets.FloatSlider(value=0.0, min=0.35, max=0.75, step=0.001, description = \"Sulfates\")\n",
    "alcohol = widgets.FloatSlider(value=10.5, min=8, max=15.0, step=0.01, description = \"Alcohol\")\n",
    "\n",
    "widget_box = widgets.VBox([fixed_acidity, volatile_acidity, citric_acid, residual_sugar, chlorides, free_SO2, total_SO2,\n",
    "                          density, pH, sulfates, alcohol])\n",
    "children = [widget_box]\n",
    "tab = widgets.Tab()\n",
    "tab.children = children\n",
    "tab.set_title(0, \"Chemical Properties\")\n",
    "tab\n"
   ]
  },
  {
   "cell_type": "code",
   "execution_count": 31,
   "metadata": {},
   "outputs": [
    {
     "data": {
      "application/vnd.jupyter.widget-view+json": {
       "model_id": "df535a3a050543a4be03a90369e43901",
       "version_major": 2,
       "version_minor": 0
      },
      "text/plain": [
       "VBox(children=(Button(description='Predict Quality', style=ButtonStyle()), Output()))"
      ]
     },
     "metadata": {},
     "output_type": "display_data"
    }
   ],
   "source": [
    "# Store slider data (the user's prediction) in a list.\n",
    "\n",
    "user_pred = [[fixed_acidity.value, volatile_acidity.value, citric_acid.value, residual_sugar.value,\n",
    "             chlorides.value, free_SO2.value, total_SO2.value,\n",
    "             density.value, pH.value, sulfates.value, alcohol.value]]\n",
    "\n",
    "def calculate_user_prediction(user_prediction):\n",
    "    prediction_list = scaler.transform(user_prediction)\n",
    "    return min(model.predict(prediction_list), 10)\n",
    "    \n",
    "    \n",
    "\n",
    "# Define an on_click handler for the calculate button, display the button, and output our prediction. \n",
    "def on_calculate_click(_):\n",
    "    prediction = calculate_user_prediction(user_pred)\n",
    "    with out:\n",
    "        out.clear_output()\n",
    "        print(\"##### PREDICTION #####\")\n",
    "        print(\"For a wine with the selected chemical properties, our model predicts a quality score of:\", round(prediction[0][0], 2))\n",
    "        print(\"##### ACCURACY #####\")\n",
    "        print(\"Mean Absolute Error: \" , round(mean_absolute_error(y_test, model.predict(x_test)), 2))\n",
    "    return\n",
    "\n",
    "button = widgets.Button(description=\"Predict Quality\")\n",
    "out = widgets.Output()\n",
    "\n",
    "button.on_click(on_calculate_click)\n",
    "widgets.VBox([button, out])\n",
    "\n",
    "\n",
    "\n"
   ]
  },
  {
   "cell_type": "code",
   "execution_count": null,
   "metadata": {},
   "outputs": [],
   "source": []
  }
 ],
 "metadata": {
  "kernelspec": {
   "display_name": "Python 3",
   "language": "python",
   "name": "python3"
  },
  "language_info": {
   "codemirror_mode": {
    "name": "ipython",
    "version": 3
   },
   "file_extension": ".py",
   "mimetype": "text/x-python",
   "name": "python",
   "nbconvert_exporter": "python",
   "pygments_lexer": "ipython3",
   "version": "3.6.13"
  }
 },
 "nbformat": 4,
 "nbformat_minor": 2
}
