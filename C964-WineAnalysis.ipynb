{
 "cells": [
  {
   "cell_type": "code",
   "execution_count": 116,
   "metadata": {},
   "outputs": [],
   "source": [
    "## Run this block to generate an UPLOAD widget.\n",
    "\n",
    "## Click the widget, navigate to and select winedata.csv"
   ]
  },
  {
   "cell_type": "code",
   "execution_count": 117,
   "metadata": {},
   "outputs": [
    {
     "data": {
      "application/vnd.jupyter.widget-view+json": {
       "model_id": "802e82a321754f18b5533633bcdccce0",
       "version_major": 2,
       "version_minor": 0
      },
      "text/plain": [
       "FileUpload(value={}, accept='*.csv', description='Upload')"
      ]
     },
     "metadata": {},
     "output_type": "display_data"
    }
   ],
   "source": [
    "#ipywidgets imported here\n",
    "import ipywidgets as widgets\n",
    "widgets.IntSlider()\n",
    "from IPython.display import display\n",
    "w = widgets.IntSlider()\n",
    "uploader = widgets.FileUpload(\n",
    "    accept='*.csv',  # Accepted file extension e.g. '.txt', '.pdf', 'image/*', 'image/*,.pdf'\n",
    "    multiple=False  # True to accept multiple files upload else False\n",
    ")\n",
    "\n",
    "display(uploader)"
   ]
  },
  {
   "cell_type": "code",
   "execution_count": 118,
   "metadata": {},
   "outputs": [],
   "source": [
    "## Run this block to display the first few record from the uploaded winedata.csv file and ensure it uploaded correctly."
   ]
  },
  {
   "cell_type": "code",
   "execution_count": 119,
   "metadata": {},
   "outputs": [
    {
     "data": {
      "text/html": [
       "<div>\n",
       "<style scoped>\n",
       "    .dataframe tbody tr th:only-of-type {\n",
       "        vertical-align: middle;\n",
       "    }\n",
       "\n",
       "    .dataframe tbody tr th {\n",
       "        vertical-align: top;\n",
       "    }\n",
       "\n",
       "    .dataframe thead th {\n",
       "        text-align: right;\n",
       "    }\n",
       "</style>\n",
       "<table border=\"1\" class=\"dataframe\">\n",
       "  <thead>\n",
       "    <tr style=\"text-align: right;\">\n",
       "      <th></th>\n",
       "      <th>type</th>\n",
       "      <th>fixed acidity</th>\n",
       "      <th>volatile acidity</th>\n",
       "      <th>citric acid</th>\n",
       "      <th>residual sugar</th>\n",
       "      <th>chlorides</th>\n",
       "      <th>free sulfur dioxide</th>\n",
       "      <th>total sulfur dioxide</th>\n",
       "      <th>density</th>\n",
       "      <th>pH</th>\n",
       "      <th>sulphates</th>\n",
       "      <th>alcohol</th>\n",
       "      <th>quality</th>\n",
       "    </tr>\n",
       "  </thead>\n",
       "  <tbody>\n",
       "    <tr>\n",
       "      <th>0</th>\n",
       "      <td>white</td>\n",
       "      <td>7.0</td>\n",
       "      <td>0.27</td>\n",
       "      <td>0.36</td>\n",
       "      <td>20.7</td>\n",
       "      <td>0.045</td>\n",
       "      <td>45.0</td>\n",
       "      <td>170.0</td>\n",
       "      <td>1.0010</td>\n",
       "      <td>3.00</td>\n",
       "      <td>0.45</td>\n",
       "      <td>8.8</td>\n",
       "      <td>6</td>\n",
       "    </tr>\n",
       "    <tr>\n",
       "      <th>1</th>\n",
       "      <td>white</td>\n",
       "      <td>6.3</td>\n",
       "      <td>0.30</td>\n",
       "      <td>0.34</td>\n",
       "      <td>1.6</td>\n",
       "      <td>0.049</td>\n",
       "      <td>14.0</td>\n",
       "      <td>132.0</td>\n",
       "      <td>0.9940</td>\n",
       "      <td>3.30</td>\n",
       "      <td>0.49</td>\n",
       "      <td>9.5</td>\n",
       "      <td>6</td>\n",
       "    </tr>\n",
       "    <tr>\n",
       "      <th>2</th>\n",
       "      <td>white</td>\n",
       "      <td>8.1</td>\n",
       "      <td>0.28</td>\n",
       "      <td>0.40</td>\n",
       "      <td>6.9</td>\n",
       "      <td>0.050</td>\n",
       "      <td>30.0</td>\n",
       "      <td>97.0</td>\n",
       "      <td>0.9951</td>\n",
       "      <td>3.26</td>\n",
       "      <td>0.44</td>\n",
       "      <td>10.1</td>\n",
       "      <td>6</td>\n",
       "    </tr>\n",
       "    <tr>\n",
       "      <th>3</th>\n",
       "      <td>white</td>\n",
       "      <td>7.2</td>\n",
       "      <td>0.23</td>\n",
       "      <td>0.32</td>\n",
       "      <td>8.5</td>\n",
       "      <td>0.058</td>\n",
       "      <td>47.0</td>\n",
       "      <td>186.0</td>\n",
       "      <td>0.9956</td>\n",
       "      <td>3.19</td>\n",
       "      <td>0.40</td>\n",
       "      <td>9.9</td>\n",
       "      <td>6</td>\n",
       "    </tr>\n",
       "    <tr>\n",
       "      <th>4</th>\n",
       "      <td>white</td>\n",
       "      <td>7.2</td>\n",
       "      <td>0.23</td>\n",
       "      <td>0.32</td>\n",
       "      <td>8.5</td>\n",
       "      <td>0.058</td>\n",
       "      <td>47.0</td>\n",
       "      <td>186.0</td>\n",
       "      <td>0.9956</td>\n",
       "      <td>3.19</td>\n",
       "      <td>0.40</td>\n",
       "      <td>9.9</td>\n",
       "      <td>6</td>\n",
       "    </tr>\n",
       "  </tbody>\n",
       "</table>\n",
       "</div>"
      ],
      "text/plain": [
       "    type  fixed acidity  volatile acidity  citric acid  residual sugar  \\\n",
       "0  white            7.0              0.27         0.36            20.7   \n",
       "1  white            6.3              0.30         0.34             1.6   \n",
       "2  white            8.1              0.28         0.40             6.9   \n",
       "3  white            7.2              0.23         0.32             8.5   \n",
       "4  white            7.2              0.23         0.32             8.5   \n",
       "\n",
       "   chlorides  free sulfur dioxide  total sulfur dioxide  density    pH  \\\n",
       "0      0.045                 45.0                 170.0   1.0010  3.00   \n",
       "1      0.049                 14.0                 132.0   0.9940  3.30   \n",
       "2      0.050                 30.0                  97.0   0.9951  3.26   \n",
       "3      0.058                 47.0                 186.0   0.9956  3.19   \n",
       "4      0.058                 47.0                 186.0   0.9956  3.19   \n",
       "\n",
       "   sulphates  alcohol  quality  \n",
       "0       0.45      8.8        6  \n",
       "1       0.49      9.5        6  \n",
       "2       0.44     10.1        6  \n",
       "3       0.40      9.9        6  \n",
       "4       0.40      9.9        6  "
      ]
     },
     "execution_count": 119,
     "metadata": {},
     "output_type": "execute_result"
    }
   ],
   "source": [
    "#io and pandas imported here\n",
    "import io\n",
    "import pandas as pd\n",
    "input_file = list(uploader.value.values())[0]\n",
    "content = input_file['content']\n",
    "content = io.StringIO(content.decode('utf-8'))\n",
    "\n",
    "#Make the primary dataframe here, named df\n",
    "df = pd.read_csv(content)\n",
    "df.head()"
   ]
  },
  {
   "cell_type": "code",
   "execution_count": 120,
   "metadata": {},
   "outputs": [],
   "source": [
    "## This block will install the primary library for this project, tensorflow"
   ]
  },
  {
   "cell_type": "code",
   "execution_count": 8,
   "metadata": {},
   "outputs": [
    {
     "name": "stdout",
     "output_type": "stream",
     "text": [
      "Collecting tensorflow\n",
      "  Downloading tensorflow-2.6.0-cp36-cp36m-manylinux2010_x86_64.whl (458.3 MB)\n",
      "\u001b[K     |████████████████████████████████| 458.3 MB 39 kB/s s eta 0:00:01    |████▍                           | 63.0 MB 76.7 MB/s eta 0:00:06        | 193.6 MB 88.2 MB/s eta 0:00:04\n",
      "\u001b[?25hCollecting astunparse~=1.6.3\n",
      "  Downloading astunparse-1.6.3-py2.py3-none-any.whl (12 kB)\n",
      "Collecting six~=1.15.0\n",
      "  Downloading six-1.15.0-py2.py3-none-any.whl (10 kB)\n",
      "Collecting gast==0.4.0\n",
      "  Downloading gast-0.4.0-py3-none-any.whl (9.8 kB)\n",
      "Collecting h5py~=3.1.0\n",
      "  Downloading h5py-3.1.0-cp36-cp36m-manylinux1_x86_64.whl (4.0 MB)\n",
      "\u001b[K     |████████████████████████████████| 4.0 MB 57.7 MB/s eta 0:00:01\n",
      "\u001b[?25hCollecting tensorflow-estimator~=2.6\n",
      "  Downloading tensorflow_estimator-2.6.0-py2.py3-none-any.whl (462 kB)\n",
      "\u001b[K     |████████████████████████████████| 462 kB 49.3 MB/s eta 0:00:01\n",
      "\u001b[?25hCollecting wrapt~=1.12.1\n",
      "  Downloading wrapt-1.12.1.tar.gz (27 kB)\n",
      "Collecting keras-preprocessing~=1.1.2\n",
      "  Downloading Keras_Preprocessing-1.1.2-py2.py3-none-any.whl (42 kB)\n",
      "\u001b[K     |████████████████████████████████| 42 kB 2.1 MB/s  eta 0:00:01\n",
      "\u001b[?25hCollecting google-pasta~=0.2\n",
      "  Downloading google_pasta-0.2.0-py3-none-any.whl (57 kB)\n",
      "\u001b[K     |████████████████████████████████| 57 kB 8.8 MB/s  eta 0:00:01\n",
      "\u001b[?25hRequirement already satisfied: wheel~=0.35 in /srv/conda/envs/notebook/lib/python3.6/site-packages (from tensorflow) (0.36.2)\n",
      "Collecting termcolor~=1.1.0\n",
      "  Downloading termcolor-1.1.0.tar.gz (3.9 kB)\n",
      "Collecting clang~=5.0\n",
      "  Downloading clang-5.0.tar.gz (30 kB)\n",
      "Collecting typing-extensions~=3.7.4\n",
      "  Downloading typing_extensions-3.7.4.3-py3-none-any.whl (22 kB)\n",
      "Collecting grpcio<2.0,>=1.37.0\n",
      "  Downloading grpcio-1.41.0-cp36-cp36m-manylinux_2_17_x86_64.manylinux2014_x86_64.whl (3.9 MB)\n",
      "\u001b[K     |████████████████████████████████| 3.9 MB 65.8 MB/s eta 0:00:01\n",
      "\u001b[?25hCollecting keras~=2.6\n",
      "  Downloading keras-2.6.0-py2.py3-none-any.whl (1.3 MB)\n",
      "\u001b[K     |████████████████████████████████| 1.3 MB 89.4 MB/s eta 0:00:01\n",
      "\u001b[?25hCollecting protobuf>=3.9.2\n",
      "  Downloading protobuf-3.18.1-cp36-cp36m-manylinux_2_17_x86_64.manylinux2014_x86_64.whl (1.1 MB)\n",
      "\u001b[K     |████████████████████████████████| 1.1 MB 59.8 MB/s eta 0:00:01\n",
      "\u001b[?25hCollecting flatbuffers~=1.12.0\n",
      "  Downloading flatbuffers-1.12-py2.py3-none-any.whl (15 kB)\n",
      "Collecting tensorboard~=2.6\n",
      "  Downloading tensorboard-2.6.0-py3-none-any.whl (5.6 MB)\n",
      "\u001b[K     |████████████████████████████████| 5.6 MB 78.4 MB/s eta 0:00:01\n",
      "\u001b[?25hRequirement already satisfied: numpy~=1.19.2 in /srv/conda/envs/notebook/lib/python3.6/site-packages (from tensorflow) (1.19.5)\n",
      "Collecting opt-einsum~=3.3.0\n",
      "  Downloading opt_einsum-3.3.0-py3-none-any.whl (65 kB)\n",
      "\u001b[K     |████████████████████████████████| 65 kB 7.4 MB/s  eta 0:00:01\n",
      "\u001b[?25hCollecting absl-py~=0.10\n",
      "  Downloading absl_py-0.14.1-py3-none-any.whl (131 kB)\n",
      "\u001b[K     |████████████████████████████████| 131 kB 76.3 MB/s eta 0:00:01\n",
      "\u001b[?25hCollecting cached-property\n",
      "  Downloading cached_property-1.5.2-py2.py3-none-any.whl (7.6 kB)\n",
      "Requirement already satisfied: requests<3,>=2.21.0 in /srv/conda/envs/notebook/lib/python3.6/site-packages (from tensorboard~=2.6->tensorflow) (2.26.0)\n",
      "Collecting markdown>=2.6.8\n",
      "  Downloading Markdown-3.3.4-py3-none-any.whl (97 kB)\n",
      "\u001b[K     |████████████████████████████████| 97 kB 12.1 MB/s eta 0:00:01\n",
      "\u001b[?25hCollecting google-auth-oauthlib<0.5,>=0.4.1\n",
      "  Downloading google_auth_oauthlib-0.4.6-py2.py3-none-any.whl (18 kB)\n",
      "Requirement already satisfied: setuptools>=41.0.0 in /srv/conda/envs/notebook/lib/python3.6/site-packages (from tensorboard~=2.6->tensorflow) (49.6.0.post20210108)\n",
      "Collecting tensorboard-plugin-wit>=1.6.0\n",
      "  Downloading tensorboard_plugin_wit-1.8.0-py3-none-any.whl (781 kB)\n",
      "\u001b[K     |████████████████████████████████| 781 kB 73.8 MB/s eta 0:00:01\n",
      "\u001b[?25hCollecting werkzeug>=0.11.15\n",
      "  Downloading Werkzeug-2.0.2-py3-none-any.whl (288 kB)\n",
      "\u001b[K     |████████████████████████████████| 288 kB 92.6 MB/s eta 0:00:01\n",
      "\u001b[?25hCollecting google-auth<2,>=1.6.3\n",
      "  Downloading google_auth-1.35.0-py2.py3-none-any.whl (152 kB)\n",
      "\u001b[K     |████████████████████████████████| 152 kB 92.6 MB/s eta 0:00:01\n",
      "\u001b[?25hCollecting tensorboard-data-server<0.7.0,>=0.6.0\n",
      "  Downloading tensorboard_data_server-0.6.1-py3-none-manylinux2010_x86_64.whl (4.9 MB)\n",
      "\u001b[K     |████████████████████████████████| 4.9 MB 80.8 MB/s eta 0:00:01\n",
      "\u001b[?25hCollecting rsa<5,>=3.1.4\n",
      "  Downloading rsa-4.7.2-py3-none-any.whl (34 kB)\n",
      "Collecting pyasn1-modules>=0.2.1\n",
      "  Downloading pyasn1_modules-0.2.8-py2.py3-none-any.whl (155 kB)\n",
      "\u001b[K     |████████████████████████████████| 155 kB 83.3 MB/s eta 0:00:01\n",
      "\u001b[?25hCollecting cachetools<5.0,>=2.0.0\n",
      "  Downloading cachetools-4.2.4-py3-none-any.whl (10 kB)\n",
      "Collecting requests-oauthlib>=0.7.0\n",
      "  Downloading requests_oauthlib-1.3.0-py2.py3-none-any.whl (23 kB)\n",
      "Requirement already satisfied: importlib-metadata in /srv/conda/envs/notebook/lib/python3.6/site-packages (from markdown>=2.6.8->tensorboard~=2.6->tensorflow) (4.6.3)\n",
      "Collecting pyasn1<0.5.0,>=0.4.6\n",
      "  Downloading pyasn1-0.4.8-py2.py3-none-any.whl (77 kB)\n",
      "\u001b[K     |████████████████████████████████| 77 kB 9.1 MB/s  eta 0:00:01\n",
      "\u001b[?25hRequirement already satisfied: urllib3<1.27,>=1.21.1 in /srv/conda/envs/notebook/lib/python3.6/site-packages (from requests<3,>=2.21.0->tensorboard~=2.6->tensorflow) (1.26.6)\n",
      "Requirement already satisfied: charset-normalizer~=2.0.0 in /srv/conda/envs/notebook/lib/python3.6/site-packages (from requests<3,>=2.21.0->tensorboard~=2.6->tensorflow) (2.0.0)\n",
      "Requirement already satisfied: certifi>=2017.4.17 in /srv/conda/envs/notebook/lib/python3.6/site-packages (from requests<3,>=2.21.0->tensorboard~=2.6->tensorflow) (2021.5.30)\n",
      "Requirement already satisfied: idna<4,>=2.5 in /srv/conda/envs/notebook/lib/python3.6/site-packages (from requests<3,>=2.21.0->tensorboard~=2.6->tensorflow) (3.1)\n",
      "Requirement already satisfied: oauthlib>=3.0.0 in /srv/conda/envs/notebook/lib/python3.6/site-packages (from requests-oauthlib>=0.7.0->google-auth-oauthlib<0.5,>=0.4.1->tensorboard~=2.6->tensorflow) (3.1.1)\n",
      "Requirement already satisfied: dataclasses in /srv/conda/envs/notebook/lib/python3.6/site-packages (from werkzeug>=0.11.15->tensorboard~=2.6->tensorflow) (0.8)\n",
      "Requirement already satisfied: zipp>=0.5 in /srv/conda/envs/notebook/lib/python3.6/site-packages (from importlib-metadata->markdown>=2.6.8->tensorboard~=2.6->tensorflow) (3.5.0)\n",
      "Building wheels for collected packages: clang, termcolor, wrapt\n",
      "  Building wheel for clang (setup.py) ... \u001b[?25ldone\n",
      "\u001b[?25h  Created wheel for clang: filename=clang-5.0-py3-none-any.whl size=30702 sha256=baa42a8afbc1ff1fef32605a8514926e00503e749d37cb3ce7b1ceba07a8a0f0\n",
      "  Stored in directory: /home/jovyan/.cache/pip/wheels/22/4c/94/0583f60c9c5b6024ed64f290cb2d43b06bb4f75577dc3c93a7\n",
      "  Building wheel for termcolor (setup.py) ... \u001b[?25ldone\n",
      "\u001b[?25h  Created wheel for termcolor: filename=termcolor-1.1.0-py3-none-any.whl size=4829 sha256=17ffed12cc01c8dce7e693fd158945ebf329fd19525a281cf4f1ef9b2d3c5b46\n",
      "  Stored in directory: /home/jovyan/.cache/pip/wheels/93/2a/eb/e58dbcbc963549ee4f065ff80a59f274cc7210b6eab962acdc\n",
      "  Building wheel for wrapt (setup.py) ... \u001b[?25ldone\n",
      "\u001b[?25h  Created wheel for wrapt: filename=wrapt-1.12.1-cp36-cp36m-linux_x86_64.whl size=69656 sha256=1cb4223f1e973e4aa62805ff927df15fa613a85af8063ef358ec54ae5498e327\n",
      "  Stored in directory: /home/jovyan/.cache/pip/wheels/32/42/7f/23cae9ff6ef66798d00dc5d659088e57dbba01566f6c60db63\n",
      "Successfully built clang termcolor wrapt\n",
      "Installing collected packages: pyasn1, typing-extensions, six, rsa, pyasn1-modules, cachetools, requests-oauthlib, google-auth, werkzeug, tensorboard-plugin-wit, tensorboard-data-server, protobuf, markdown, grpcio, google-auth-oauthlib, cached-property, absl-py, wrapt, termcolor, tensorflow-estimator, tensorboard, opt-einsum, keras-preprocessing, keras, h5py, google-pasta, gast, flatbuffers, clang, astunparse, tensorflow\n",
      "  Attempting uninstall: typing-extensions\n",
      "    Found existing installation: typing-extensions 3.10.0.0\n",
      "    Uninstalling typing-extensions-3.10.0.0:\n",
      "      Successfully uninstalled typing-extensions-3.10.0.0\n",
      "  Attempting uninstall: six\n",
      "    Found existing installation: six 1.16.0\n",
      "    Uninstalling six-1.16.0:\n",
      "      Successfully uninstalled six-1.16.0\n",
      "Successfully installed absl-py-0.14.1 astunparse-1.6.3 cached-property-1.5.2 cachetools-4.2.4 clang-5.0 flatbuffers-1.12 gast-0.4.0 google-auth-1.35.0 google-auth-oauthlib-0.4.6 google-pasta-0.2.0 grpcio-1.41.0 h5py-3.1.0 keras-2.6.0 keras-preprocessing-1.1.2 markdown-3.3.4 opt-einsum-3.3.0 protobuf-3.18.1 pyasn1-0.4.8 pyasn1-modules-0.2.8 requests-oauthlib-1.3.0 rsa-4.7.2 six-1.15.0 tensorboard-2.6.0 tensorboard-data-server-0.6.1 tensorboard-plugin-wit-1.8.0 tensorflow-2.6.0 tensorflow-estimator-2.6.0 termcolor-1.1.0 typing-extensions-3.7.4.3 werkzeug-2.0.2 wrapt-1.12.1\n",
      "Note: you may need to restart the kernel to use updated packages.\n"
     ]
    }
   ],
   "source": [
    "pip install tensorflow"
   ]
  },
  {
   "cell_type": "code",
   "execution_count": null,
   "metadata": {},
   "outputs": [],
   "source": [
    "## This block installs a package called seaborn, which makes our visualizations look better"
   ]
  },
  {
   "cell_type": "code",
   "execution_count": 16,
   "metadata": {},
   "outputs": [
    {
     "name": "stdout",
     "output_type": "stream",
     "text": [
      "Collecting seaborn\n",
      "  Downloading seaborn-0.11.2-py3-none-any.whl (292 kB)\n",
      "\u001b[K     |████████████████████████████████| 292 kB 4.6 MB/s eta 0:00:01\n",
      "\u001b[?25hRequirement already satisfied: pandas>=0.23 in /srv/conda/envs/notebook/lib/python3.6/site-packages (from seaborn) (1.1.5)\n",
      "Requirement already satisfied: matplotlib>=2.2 in /srv/conda/envs/notebook/lib/python3.6/site-packages (from seaborn) (3.3.4)\n",
      "Requirement already satisfied: scipy>=1.0 in /srv/conda/envs/notebook/lib/python3.6/site-packages (from seaborn) (1.5.3)\n",
      "Requirement already satisfied: numpy>=1.15 in /srv/conda/envs/notebook/lib/python3.6/site-packages (from seaborn) (1.19.5)\n",
      "Requirement already satisfied: kiwisolver>=1.0.1 in /srv/conda/envs/notebook/lib/python3.6/site-packages (from matplotlib>=2.2->seaborn) (1.3.1)\n",
      "Requirement already satisfied: cycler>=0.10 in /srv/conda/envs/notebook/lib/python3.6/site-packages/cycler-0.10.0-py3.6.egg (from matplotlib>=2.2->seaborn) (0.10.0)\n",
      "Requirement already satisfied: pillow>=6.2.0 in /srv/conda/envs/notebook/lib/python3.6/site-packages (from matplotlib>=2.2->seaborn) (8.3.1)\n",
      "Requirement already satisfied: pyparsing!=2.0.4,!=2.1.2,!=2.1.6,>=2.0.3 in /srv/conda/envs/notebook/lib/python3.6/site-packages (from matplotlib>=2.2->seaborn) (2.4.7)\n",
      "Requirement already satisfied: python-dateutil>=2.1 in /srv/conda/envs/notebook/lib/python3.6/site-packages (from matplotlib>=2.2->seaborn) (2.8.2)\n",
      "Requirement already satisfied: six in /srv/conda/envs/notebook/lib/python3.6/site-packages (from cycler>=0.10->matplotlib>=2.2->seaborn) (1.15.0)\n",
      "Requirement already satisfied: pytz>=2017.2 in /srv/conda/envs/notebook/lib/python3.6/site-packages (from pandas>=0.23->seaborn) (2021.1)\n",
      "Installing collected packages: seaborn\n",
      "Successfully installed seaborn-0.11.2\n",
      "Note: you may need to restart the kernel to use updated packages.\n"
     ]
    }
   ],
   "source": [
    "pip install seaborn"
   ]
  },
  {
   "cell_type": "code",
   "execution_count": null,
   "metadata": {},
   "outputs": [],
   "source": [
    "## This block is a chunk of imports that retrieves the remaining packages needed for the project"
   ]
  },
  {
   "cell_type": "code",
   "execution_count": 214,
   "metadata": {},
   "outputs": [],
   "source": [
    "# pandas, io, and ipywidgets imported above\n",
    "import numpy as np\n",
    "import matplotlib.pyplot as plt\n",
    "import tensorflow as tf\n",
    "from tensorflow import keras\n",
    "from tensorflow.keras import Sequential\n",
    "from tensorflow.keras.layers import Flatten, Dense, Softmax\n",
    "from tensorflow.keras import optimizers\n",
    "from sklearn.model_selection import train_test_split\n",
    "from sklearn.preprocessing import StandardScaler\n",
    "from sklearn.metrics import mean_absolute_error\n",
    "import seaborn as sns\n",
    "sns.set(style=\"whitegrid\")"
   ]
  },
  {
   "cell_type": "code",
   "execution_count": 122,
   "metadata": {},
   "outputs": [],
   "source": [
    "# We begin our analysis with a descriptive overview of our data"
   ]
  },
  {
   "cell_type": "code",
   "execution_count": 123,
   "metadata": {},
   "outputs": [],
   "source": [
    "## A tableview of descriptive statistics (DESCRIPTIVE VISUALIZATION 1)"
   ]
  },
  {
   "cell_type": "code",
   "execution_count": 124,
   "metadata": {},
   "outputs": [
    {
     "data": {
      "text/html": [
       "<div>\n",
       "<style scoped>\n",
       "    .dataframe tbody tr th:only-of-type {\n",
       "        vertical-align: middle;\n",
       "    }\n",
       "\n",
       "    .dataframe tbody tr th {\n",
       "        vertical-align: top;\n",
       "    }\n",
       "\n",
       "    .dataframe thead th {\n",
       "        text-align: right;\n",
       "    }\n",
       "</style>\n",
       "<table border=\"1\" class=\"dataframe\">\n",
       "  <thead>\n",
       "    <tr style=\"text-align: right;\">\n",
       "      <th></th>\n",
       "      <th>fixed acidity</th>\n",
       "      <th>volatile acidity</th>\n",
       "      <th>citric acid</th>\n",
       "      <th>residual sugar</th>\n",
       "      <th>chlorides</th>\n",
       "      <th>free sulfur dioxide</th>\n",
       "      <th>total sulfur dioxide</th>\n",
       "      <th>density</th>\n",
       "      <th>pH</th>\n",
       "      <th>sulphates</th>\n",
       "      <th>alcohol</th>\n",
       "      <th>quality</th>\n",
       "    </tr>\n",
       "  </thead>\n",
       "  <tbody>\n",
       "    <tr>\n",
       "      <th>count</th>\n",
       "      <td>6463.000000</td>\n",
       "      <td>6463.000000</td>\n",
       "      <td>6463.000000</td>\n",
       "      <td>6463.000000</td>\n",
       "      <td>6463.000000</td>\n",
       "      <td>6463.000000</td>\n",
       "      <td>6463.000000</td>\n",
       "      <td>6463.000000</td>\n",
       "      <td>6463.000000</td>\n",
       "      <td>6463.000000</td>\n",
       "      <td>6463.000000</td>\n",
       "      <td>6463.000000</td>\n",
       "    </tr>\n",
       "    <tr>\n",
       "      <th>mean</th>\n",
       "      <td>7.217755</td>\n",
       "      <td>0.339589</td>\n",
       "      <td>0.318758</td>\n",
       "      <td>5.443958</td>\n",
       "      <td>0.056056</td>\n",
       "      <td>30.516865</td>\n",
       "      <td>115.694492</td>\n",
       "      <td>0.994698</td>\n",
       "      <td>3.218332</td>\n",
       "      <td>0.531150</td>\n",
       "      <td>10.492825</td>\n",
       "      <td>5.818505</td>\n",
       "    </tr>\n",
       "    <tr>\n",
       "      <th>std</th>\n",
       "      <td>1.297913</td>\n",
       "      <td>0.164639</td>\n",
       "      <td>0.145252</td>\n",
       "      <td>4.756852</td>\n",
       "      <td>0.035076</td>\n",
       "      <td>17.758815</td>\n",
       "      <td>56.526736</td>\n",
       "      <td>0.003001</td>\n",
       "      <td>0.160650</td>\n",
       "      <td>0.148913</td>\n",
       "      <td>1.193128</td>\n",
       "      <td>0.873286</td>\n",
       "    </tr>\n",
       "    <tr>\n",
       "      <th>min</th>\n",
       "      <td>3.800000</td>\n",
       "      <td>0.080000</td>\n",
       "      <td>0.000000</td>\n",
       "      <td>0.600000</td>\n",
       "      <td>0.009000</td>\n",
       "      <td>1.000000</td>\n",
       "      <td>6.000000</td>\n",
       "      <td>0.987110</td>\n",
       "      <td>2.720000</td>\n",
       "      <td>0.220000</td>\n",
       "      <td>8.000000</td>\n",
       "      <td>3.000000</td>\n",
       "    </tr>\n",
       "    <tr>\n",
       "      <th>25%</th>\n",
       "      <td>6.400000</td>\n",
       "      <td>0.230000</td>\n",
       "      <td>0.250000</td>\n",
       "      <td>1.800000</td>\n",
       "      <td>0.038000</td>\n",
       "      <td>17.000000</td>\n",
       "      <td>77.000000</td>\n",
       "      <td>0.992330</td>\n",
       "      <td>3.110000</td>\n",
       "      <td>0.430000</td>\n",
       "      <td>9.500000</td>\n",
       "      <td>5.000000</td>\n",
       "    </tr>\n",
       "    <tr>\n",
       "      <th>50%</th>\n",
       "      <td>7.000000</td>\n",
       "      <td>0.290000</td>\n",
       "      <td>0.310000</td>\n",
       "      <td>3.000000</td>\n",
       "      <td>0.047000</td>\n",
       "      <td>29.000000</td>\n",
       "      <td>118.000000</td>\n",
       "      <td>0.994890</td>\n",
       "      <td>3.210000</td>\n",
       "      <td>0.510000</td>\n",
       "      <td>10.300000</td>\n",
       "      <td>6.000000</td>\n",
       "    </tr>\n",
       "    <tr>\n",
       "      <th>75%</th>\n",
       "      <td>7.700000</td>\n",
       "      <td>0.400000</td>\n",
       "      <td>0.390000</td>\n",
       "      <td>8.100000</td>\n",
       "      <td>0.065000</td>\n",
       "      <td>41.000000</td>\n",
       "      <td>156.000000</td>\n",
       "      <td>0.997000</td>\n",
       "      <td>3.320000</td>\n",
       "      <td>0.600000</td>\n",
       "      <td>11.300000</td>\n",
       "      <td>6.000000</td>\n",
       "    </tr>\n",
       "    <tr>\n",
       "      <th>max</th>\n",
       "      <td>15.900000</td>\n",
       "      <td>1.580000</td>\n",
       "      <td>1.660000</td>\n",
       "      <td>65.800000</td>\n",
       "      <td>0.611000</td>\n",
       "      <td>289.000000</td>\n",
       "      <td>440.000000</td>\n",
       "      <td>1.038980</td>\n",
       "      <td>4.010000</td>\n",
       "      <td>2.000000</td>\n",
       "      <td>14.900000</td>\n",
       "      <td>9.000000</td>\n",
       "    </tr>\n",
       "  </tbody>\n",
       "</table>\n",
       "</div>"
      ],
      "text/plain": [
       "       fixed acidity  volatile acidity  citric acid  residual sugar  \\\n",
       "count    6463.000000       6463.000000  6463.000000     6463.000000   \n",
       "mean        7.217755          0.339589     0.318758        5.443958   \n",
       "std         1.297913          0.164639     0.145252        4.756852   \n",
       "min         3.800000          0.080000     0.000000        0.600000   \n",
       "25%         6.400000          0.230000     0.250000        1.800000   \n",
       "50%         7.000000          0.290000     0.310000        3.000000   \n",
       "75%         7.700000          0.400000     0.390000        8.100000   \n",
       "max        15.900000          1.580000     1.660000       65.800000   \n",
       "\n",
       "         chlorides  free sulfur dioxide  total sulfur dioxide      density  \\\n",
       "count  6463.000000          6463.000000           6463.000000  6463.000000   \n",
       "mean      0.056056            30.516865            115.694492     0.994698   \n",
       "std       0.035076            17.758815             56.526736     0.003001   \n",
       "min       0.009000             1.000000              6.000000     0.987110   \n",
       "25%       0.038000            17.000000             77.000000     0.992330   \n",
       "50%       0.047000            29.000000            118.000000     0.994890   \n",
       "75%       0.065000            41.000000            156.000000     0.997000   \n",
       "max       0.611000           289.000000            440.000000     1.038980   \n",
       "\n",
       "                pH    sulphates      alcohol      quality  \n",
       "count  6463.000000  6463.000000  6463.000000  6463.000000  \n",
       "mean      3.218332     0.531150    10.492825     5.818505  \n",
       "std       0.160650     0.148913     1.193128     0.873286  \n",
       "min       2.720000     0.220000     8.000000     3.000000  \n",
       "25%       3.110000     0.430000     9.500000     5.000000  \n",
       "50%       3.210000     0.510000    10.300000     6.000000  \n",
       "75%       3.320000     0.600000    11.300000     6.000000  \n",
       "max       4.010000     2.000000    14.900000     9.000000  "
      ]
     },
     "execution_count": 124,
     "metadata": {},
     "output_type": "execute_result"
    }
   ],
   "source": [
    "#Define the quality_score variable as the last field of our table\n",
    "quality_score = df['quality']\n",
    "#Utilizing a built-in data cleaning technique to drop null values from the frame\n",
    "df.dropna(inplace=True)\n",
    "#Generate a table of descriptive statistics for EACH numeric variable\n",
    "df.describe()"
   ]
  },
  {
   "cell_type": "code",
   "execution_count": 125,
   "metadata": {},
   "outputs": [],
   "source": [
    "## Quality score distribution (DESCRIPTIVE VISUALIZATION 2)"
   ]
  },
  {
   "cell_type": "code",
   "execution_count": 126,
   "metadata": {},
   "outputs": [
    {
     "data": {
      "text/plain": [
       "(array([ 246., 2138., 2836., 1079.,  198.]),\n",
       " array([3. , 4.2, 5.4, 6.6, 7.8, 9. ]),\n",
       " <BarContainer object of 5 artists>)"
      ]
     },
     "execution_count": 126,
     "metadata": {},
     "output_type": "execute_result"
    },
    {
     "data": {
      "image/png": "[encoded data removed]",
      "text/plain": [
       "<Figure size 432x288 with 1 Axes>"
      ]
     },
     "metadata": {},
     "output_type": "display_data"
    }
   ],
   "source": [
    "# Display a histogram showcasing the distribution of quality scores throughout the dataset\n",
    "plt.hist(quality_score, bins = 5)"
   ]
  },
  {
   "cell_type": "code",
   "execution_count": 127,
   "metadata": {},
   "outputs": [],
   "source": [
    "## Heatmap of correlation values between chemical attributes (DESCRIPTIVE VISUALIZATION 3)"
   ]
  },
  {
   "cell_type": "code",
   "execution_count": 128,
   "metadata": {},
   "outputs": [
    {
     "data": {
      "text/plain": [
       "<AxesSubplot:>"
      ]
     },
     "execution_count": 128,
     "metadata": {},
     "output_type": "execute_result"
    },
    {
     "data": {
      "image/png": "[encoded data removed]",
      "text/plain": [
       "<Figure size 864x864 with 2 Axes>"
      ]
     },
     "metadata": {},
     "output_type": "display_data"
    }
   ],
   "source": [
    "# Create a heatmap display showing the correlation coefficients for each variable\n",
    "plt.figure(figsize = (12, 12))\n",
    "train_corr = df.corr()\n",
    "sns.heatmap(train_corr, cmap = \"coolwarm\", annot=True, fmt='.1f', linewidths = 0.05)"
   ]
  },
  {
   "cell_type": "code",
   "execution_count": 129,
   "metadata": {},
   "outputs": [],
   "source": [
    "## A scatterplot of quality score vs alcohol content (DESCRIPTIVE VISUALIZATION 4)"
   ]
  },
  {
   "cell_type": "code",
   "execution_count": 130,
   "metadata": {},
   "outputs": [
    {
     "data": {
      "text/plain": [
       "<seaborn.axisgrid.FacetGrid at 0x7f47f3771b70>"
      ]
     },
     "execution_count": 130,
     "metadata": {},
     "output_type": "execute_result"
    },
    {
     "data": {
      "image/png": "[encoded data removed]",
      "text/plain": [
       "<Figure size 360x360 with 1 Axes>"
      ]
     },
     "metadata": {},
     "output_type": "display_data"
    }
   ],
   "source": [
    "#Alcohol content has the strongest correlation to quality, so lets see a display of that\n",
    "sns.lmplot(x = \"alcohol\", y = \"quality\", data = df)"
   ]
  },
  {
   "cell_type": "code",
   "execution_count": 131,
   "metadata": {},
   "outputs": [],
   "source": [
    "# With our new descriptive understanding, we continute to creating a predictive model for our data"
   ]
  },
  {
   "cell_type": "code",
   "execution_count": 132,
   "metadata": {},
   "outputs": [],
   "source": [
    "## Prepare data for analysis by a dense neural network"
   ]
  },
  {
   "cell_type": "code",
   "execution_count": 202,
   "metadata": {},
   "outputs": [
    {
     "ename": "TypeError",
     "evalue": "'str' object does not support item assignment",
     "output_type": "error",
     "traceback": [
      "\u001b[0;31m---------------------------------------------------------------------------\u001b[0m",
      "\u001b[0;31mTypeError\u001b[0m                                 Traceback (most recent call last)",
      "\u001b[0;32m<ipython-input-202-56ef1c6ab979>\u001b[0m in \u001b[0;36m<module>\u001b[0;34m\u001b[0m\n\u001b[1;32m      5\u001b[0m \u001b[0;34m\u001b[0m\u001b[0m\n\u001b[1;32m      6\u001b[0m \u001b[0;32mfor\u001b[0m \u001b[0mqual\u001b[0m \u001b[0;32min\u001b[0m \u001b[0my\u001b[0m\u001b[0;34m:\u001b[0m\u001b[0;34m\u001b[0m\u001b[0;34m\u001b[0m\u001b[0m\n\u001b[0;32m----> 7\u001b[0;31m     \u001b[0mqual\u001b[0m\u001b[0;34m[\u001b[0m\u001b[0;36m1\u001b[0m\u001b[0;34m]\u001b[0m \u001b[0;34m=\u001b[0m \u001b[0mqual\u001b[0m\u001b[0;34m[\u001b[0m\u001b[0;36m1\u001b[0m\u001b[0;34m]\u001b[0m \u001b[0;34m*\u001b[0m \u001b[0;36m10\u001b[0m\u001b[0;34m\u001b[0m\u001b[0;34m\u001b[0m\u001b[0m\n\u001b[0m\u001b[1;32m      8\u001b[0m \u001b[0;34m\u001b[0m\u001b[0m\n\u001b[1;32m      9\u001b[0m \u001b[0mprint\u001b[0m\u001b[0;34m(\u001b[0m\u001b[0my\u001b[0m\u001b[0;34m)\u001b[0m\u001b[0;34m\u001b[0m\u001b[0;34m\u001b[0m\u001b[0m\n",
      "\u001b[0;31mTypeError\u001b[0m: 'str' object does not support item assignment"
     ]
    }
   ],
   "source": [
    "# Separate the dataset into the chemical variables (input) and quality variable (output)\n",
    "x = pd.DataFrame(columns=['fixed acidity', 'volatile acidity', 'citric acid', 'residual sugar', 'chlorides', 'free sulfur dioxide'\n",
    "                         , 'total sulfur dioxide', 'density', 'pH', 'sulphates', 'alcohol'], data = df)\n",
    "y = pd.DataFrame(columns = ['quality'], data = df)\n",
    "\n",
    "\n",
    "# Divide the data into testing and training components\n",
    "x_train, x_test, y_train, y_test = train_test_split(x, y, test_size = 0.2, random_state = 0)\n",
    "\n",
    "# Standardize features \n",
    "scaler = StandardScaler()\n",
    "x_train = scaler.fit_transform(x_train)\n",
    "x_test = scaler.transform(x_test)\n",
    "\n",
    "\n"
   ]
  },
  {
   "cell_type": "code",
   "execution_count": 134,
   "metadata": {},
   "outputs": [],
   "source": [
    "## Creating the DNN architecture"
   ]
  },
  {
   "cell_type": "code",
   "execution_count": 168,
   "metadata": {},
   "outputs": [],
   "source": [
    "model = Sequential()\n",
    "\n",
    "#Input\n",
    "model.add(Dense(x.shape[1], activation='relu', input_dim = x.shape[1]))\n",
    "\n",
    "#Hidden\n",
    "model.add(Dense(512,kernel_initializer='normal', activation='relu'))\n",
    "model.add(Dense(256,kernel_initializer='normal', activation='relu'))\n",
    "model.add(Dense(128,kernel_initializer='normal', activation='relu'))\n",
    "model.add(Dense(64,kernel_initializer='normal', activation='relu'))\n",
    "model.add(Dense(32,kernel_initializer='normal', activation='relu'))\n",
    "#Output\n",
    "model.add(Dense(1,kernel_initializer='normal', activation = 'relu'))\n"
   ]
  },
  {
   "cell_type": "code",
   "execution_count": 169,
   "metadata": {},
   "outputs": [
    {
     "name": "stdout",
     "output_type": "stream",
     "text": [
      "Model: \"sequential_6\"\n",
      "_________________________________________________________________\n",
      "Layer (type)                 Output Shape              Param #   \n",
      "=================================================================\n",
      "dense_52 (Dense)             (None, 11)                132       \n",
      "_________________________________________________________________\n",
      "dense_53 (Dense)             (None, 512)               6144      \n",
      "_________________________________________________________________\n",
      "dense_54 (Dense)             (None, 256)               131328    \n",
      "_________________________________________________________________\n",
      "dense_55 (Dense)             (None, 128)               32896     \n",
      "_________________________________________________________________\n",
      "dense_56 (Dense)             (None, 64)                8256      \n",
      "_________________________________________________________________\n",
      "dense_57 (Dense)             (None, 32)                2080      \n",
      "_________________________________________________________________\n",
      "dense_58 (Dense)             (None, 1)                 33        \n",
      "=================================================================\n",
      "Total params: 180,869\n",
      "Trainable params: 180,869\n",
      "Non-trainable params: 0\n",
      "_________________________________________________________________\n"
     ]
    }
   ],
   "source": [
    "# Compile the model, adam optimizer, loss = mean squared error, metrics mean squared error and mean absolute error\n",
    "model.compile(loss = 'mse', optimizer = 'adam', metrics = ['mse', 'mae'])\n",
    "\n",
    "# View a summary of the model\n",
    "model.summary()"
   ]
  },
  {
   "cell_type": "code",
   "execution_count": 170,
   "metadata": {},
   "outputs": [],
   "source": [
    "## Model is trained in the cell below, technical staff may adjust batch size and number of epochs to yield different prediction accuracy. \n",
    "## Model architecture may also be adjusted to reduce training time if imprecise predictions are needed rapidly. \n"
   ]
  },
  {
   "cell_type": "code",
   "execution_count": 171,
   "metadata": {},
   "outputs": [
    {
     "name": "stdout",
     "output_type": "stream",
     "text": [
      "Epoch 1/100\n",
      "517/517 [==============================] - 4s 7ms/step - loss: 2.8630 - mse: 2.8630 - mae: 1.0706\n",
      "Epoch 2/100\n",
      "517/517 [==============================] - 4s 7ms/step - loss: 0.6486 - mse: 0.6486 - mae: 0.6252\n",
      "Epoch 3/100\n",
      "517/517 [==============================] - 4s 7ms/step - loss: 0.6420 - mse: 0.6420 - mae: 0.6267\n",
      "Epoch 4/100\n",
      "517/517 [==============================] - 4s 7ms/step - loss: 0.6114 - mse: 0.6114 - mae: 0.6124\n",
      "Epoch 5/100\n",
      "517/517 [==============================] - 4s 7ms/step - loss: 0.5883 - mse: 0.5883 - mae: 0.5962\n",
      "Epoch 6/100\n",
      "517/517 [==============================] - 4s 7ms/step - loss: 0.5803 - mse: 0.5803 - mae: 0.5976\n",
      "Epoch 7/100\n",
      "517/517 [==============================] - 4s 7ms/step - loss: 0.5731 - mse: 0.5731 - mae: 0.5914\n",
      "Epoch 8/100\n",
      "517/517 [==============================] - 4s 7ms/step - loss: 0.5848 - mse: 0.5848 - mae: 0.5995\n",
      "Epoch 9/100\n",
      "517/517 [==============================] - 4s 7ms/step - loss: 0.5634 - mse: 0.5634 - mae: 0.5842\n",
      "Epoch 10/100\n",
      "517/517 [==============================] - 4s 8ms/step - loss: 0.5531 - mse: 0.5531 - mae: 0.5812\n",
      "Epoch 11/100\n",
      "517/517 [==============================] - 4s 8ms/step - loss: 0.5470 - mse: 0.5470 - mae: 0.5753A: 1s - loss: 0.5694 - mse: 0.56\n",
      "Epoch 12/100\n",
      "517/517 [==============================] - 4s 7ms/step - loss: 0.5377 - mse: 0.5377 - mae: 0.5707\n",
      "Epoch 13/100\n",
      "517/517 [==============================] - 4s 7ms/step - loss: 0.5151 - mse: 0.5151 - mae: 0.5578\n",
      "Epoch 14/100\n",
      "517/517 [==============================] - 4s 8ms/step - loss: 0.5144 - mse: 0.5144 - mae: 0.5606\n",
      "Epoch 15/100\n",
      "517/517 [==============================] - 4s 8ms/step - loss: 0.5380 - mse: 0.5380 - mae: 0.5740\n",
      "Epoch 16/100\n",
      "517/517 [==============================] - 4s 8ms/step - loss: 0.5312 - mse: 0.5312 - mae: 0.5681\n",
      "Epoch 17/100\n",
      "517/517 [==============================] - 4s 8ms/step - loss: 0.5099 - mse: 0.5099 - mae: 0.5561\n",
      "Epoch 18/100\n",
      "517/517 [==============================] - 4s 7ms/step - loss: 0.5202 - mse: 0.5202 - mae: 0.5599A: 3s - loss: 0.5279 - mse - ETA: 1s - loss: 0.5171 - mse: 0.5\n",
      "Epoch 19/100\n",
      "517/517 [==============================] - 4s 7ms/step - loss: 0.5113 - mse: 0.5113 - mae: 0.5610\n",
      "Epoch 20/100\n",
      "517/517 [==============================] - 4s 7ms/step - loss: 0.4948 - mse: 0.4948 - mae: 0.5480\n",
      "Epoch 21/100\n",
      "517/517 [==============================] - 4s 7ms/step - loss: 0.5147 - mse: 0.5147 - mae: 0.5578\n",
      "Epoch 22/100\n",
      "517/517 [==============================] - 4s 7ms/step - loss: 0.5032 - mse: 0.5032 - mae: 0.5536\n",
      "Epoch 23/100\n",
      "517/517 [==============================] - 4s 7ms/step - loss: 0.4834 - mse: 0.4834 - mae: 0.5396\n",
      "Epoch 24/100\n",
      "517/517 [==============================] - 4s 7ms/step - loss: 0.5069 - mse: 0.5069 - mae: 0.5537\n",
      "Epoch 25/100\n",
      "517/517 [==============================] - 4s 8ms/step - loss: 0.4869 - mse: 0.4869 - mae: 0.5450\n",
      "Epoch 26/100\n",
      "517/517 [==============================] - 4s 7ms/step - loss: 0.4910 - mse: 0.4910 - mae: 0.5453\n",
      "Epoch 27/100\n",
      "517/517 [==============================] - 4s 8ms/step - loss: 0.4780 - mse: 0.4780 - mae: 0.5373A: 15s - los - ETA: 0s - loss: 0.4853 - mse: 0.4853 - \n",
      "Epoch 28/100\n",
      "517/517 [==============================] - 4s 7ms/step - loss: 0.4752 - mse: 0.4752 - mae: 0.5376\n",
      "Epoch 29/100\n",
      "517/517 [==============================] - 4s 8ms/step - loss: 0.4835 - mse: 0.4835 - mae: 0.5422A: 0s - loss: 0.4749 - mse: 0.4749 - ma\n",
      "Epoch 30/100\n",
      "517/517 [==============================] - 4s 8ms/step - loss: 0.4682 - mse: 0.4682 - mae: 0.5330\n",
      "Epoch 31/100\n",
      "517/517 [==============================] - 4s 8ms/step - loss: 0.4711 - mse: 0.4711 - mae: 0.5332\n",
      "Epoch 32/100\n",
      "517/517 [==============================] - 4s 8ms/step - loss: 0.4858 - mse: 0.4858 - mae: 0.5454\n",
      "Epoch 33/100\n",
      "517/517 [==============================] - 4s 7ms/step - loss: 0.4590 - mse: 0.4590 - mae: 0.5271A: 3s - lo\n",
      "Epoch 34/100\n",
      "517/517 [==============================] - 4s 8ms/step - loss: 0.4583 - mse: 0.4583 - mae: 0.5282\n",
      "Epoch 35/100\n",
      "517/517 [==============================] - 4s 8ms/step - loss: 0.4570 - mse: 0.4570 - mae: 0.5247\n",
      "Epoch 36/100\n",
      "517/517 [==============================] - 4s 7ms/step - loss: 0.4616 - mse: 0.4616 - mae: 0.5290\n",
      "Epoch 37/100\n",
      "517/517 [==============================] - 4s 7ms/step - loss: 0.4558 - mse: 0.4558 - mae: 0.5264\n",
      "Epoch 38/100\n",
      "517/517 [==============================] - 4s 8ms/step - loss: 0.4477 - mse: 0.4477 - mae: 0.5232A\n",
      "Epoch 39/100\n",
      "517/517 [==============================] - 4s 8ms/step - loss: 0.4407 - mse: 0.4407 - mae: 0.5163\n",
      "Epoch 40/100\n",
      "517/517 [==============================] - 4s 8ms/step - loss: 0.4351 - mse: 0.4351 - mae: 0.5133\n",
      "Epoch 41/100\n",
      "517/517 [==============================] - 4s 8ms/step - loss: 0.4373 - mse: 0.4373 - mae: 0.5168\n",
      "Epoch 42/100\n",
      "517/517 [==============================] - 4s 7ms/step - loss: 0.4450 - mse: 0.4450 - mae: 0.5185\n",
      "Epoch 43/100\n",
      "517/517 [==============================] - 4s 8ms/step - loss: 0.4359 - mse: 0.4359 - mae: 0.5111\n",
      "Epoch 44/100\n",
      "517/517 [==============================] - 4s 8ms/step - loss: 0.4318 - mse: 0.4318 - mae: 0.5100\n",
      "Epoch 45/100\n",
      "517/517 [==============================] - 4s 7ms/step - loss: 0.4347 - mse: 0.4347 - mae: 0.5132\n",
      "Epoch 46/100\n",
      "517/517 [==============================] - 4s 7ms/step - loss: 0.4348 - mse: 0.4348 - mae: 0.5123\n",
      "Epoch 47/100\n",
      "517/517 [==============================] - 4s 7ms/step - loss: 0.4321 - mse: 0.4321 - mae: 0.5134A: 3s - lo\n",
      "Epoch 48/100\n",
      "517/517 [==============================] - 4s 7ms/step - loss: 0.4281 - mse: 0.4281 - mae: 0.5109\n",
      "Epoch 49/100\n",
      "517/517 [==============================] - 4s 7ms/step - loss: 0.4272 - mse: 0.4272 - mae: 0.5097\n",
      "Epoch 50/100\n",
      "517/517 [==============================] - 4s 7ms/step - loss: 0.4149 - mse: 0.4149 - mae: 0.4977\n",
      "Epoch 51/100\n",
      "517/517 [==============================] - 4s 7ms/step - loss: 0.4064 - mse: 0.4064 - mae: 0.4962A: 1s - loss: 0.3988 - mse: 0.3988 -\n",
      "Epoch 52/100\n",
      "517/517 [==============================] - 4s 7ms/step - loss: 0.4105 - mse: 0.4105 - mae: 0.4973\n",
      "Epoch 53/100\n",
      "517/517 [==============================] - 4s 7ms/step - loss: 0.4058 - mse: 0.4058 - mae: 0.4968\n",
      "Epoch 54/100\n",
      "517/517 [==============================] - 4s 7ms/step - loss: 0.4079 - mse: 0.4079 - mae: 0.4989A: 1s - loss: 0.4044 - mse: 0.404\n",
      "Epoch 55/100\n",
      "517/517 [==============================] - 4s 7ms/step - loss: 0.4063 - mse: 0.4063 - mae: 0.4960A: 2s - loss: 0.3\n",
      "Epoch 56/100\n",
      "517/517 [==============================] - 4s 7ms/step - loss: 0.3980 - mse: 0.3980 - mae: 0.4907\n",
      "Epoch 57/100\n",
      "517/517 [==============================] - 4s 7ms/step - loss: 0.3930 - mse: 0.3930 - mae: 0.4885\n",
      "Epoch 58/100\n",
      "517/517 [==============================] - 4s 7ms/step - loss: 0.4002 - mse: 0.4002 - mae: 0.4884\n",
      "Epoch 59/100\n",
      "517/517 [==============================] - 4s 7ms/step - loss: 0.3900 - mse: 0.3900 - mae: 0.4840\n",
      "Epoch 60/100\n",
      "517/517 [==============================] - 4s 8ms/step - loss: 0.3886 - mse: 0.3886 - mae: 0.4848\n",
      "Epoch 61/100\n",
      "517/517 [==============================] - 4s 7ms/step - loss: 0.3904 - mse: 0.3904 - mae: 0.4842\n",
      "Epoch 62/100\n",
      "517/517 [==============================] - 4s 7ms/step - loss: 0.3773 - mse: 0.3773 - mae: 0.4756\n",
      "Epoch 63/100\n",
      "517/517 [==============================] - 4s 7ms/step - loss: 0.3857 - mse: 0.3857 - mae: 0.4813\n",
      "Epoch 64/100\n",
      "517/517 [==============================] - 4s 7ms/step - loss: 0.3748 - mse: 0.3748 - mae: 0.4739\n",
      "Epoch 65/100\n",
      "517/517 [==============================] - 4s 7ms/step - loss: 0.3724 - mse: 0.3724 - mae: 0.4742\n",
      "Epoch 66/100\n",
      "517/517 [==============================] - 4s 7ms/step - loss: 0.3740 - mse: 0.3740 - mae: 0.4761\n",
      "Epoch 67/100\n",
      "517/517 [==============================] - 4s 7ms/step - loss: 0.3814 - mse: 0.3814 - mae: 0.4771\n",
      "Epoch 68/100\n",
      "517/517 [==============================] - 4s 7ms/step - loss: 0.3683 - mse: 0.3683 - mae: 0.4695A: 3\n",
      "Epoch 69/100\n",
      "517/517 [==============================] - 4s 7ms/step - loss: 0.3648 - mse: 0.3648 - mae: 0.4670\n",
      "Epoch 70/100\n",
      "517/517 [==============================] - 4s 7ms/step - loss: 0.3678 - mse: 0.3678 - mae: 0.4707\n",
      "Epoch 71/100\n",
      "517/517 [==============================] - 4s 7ms/step - loss: 0.3553 - mse: 0.3553 - mae: 0.4597\n",
      "Epoch 72/100\n",
      "517/517 [==============================] - 4s 7ms/step - loss: 0.3643 - mse: 0.3643 - mae: 0.4677A: 1s - loss: 0\n",
      "Epoch 73/100\n",
      "517/517 [==============================] - 4s 7ms/step - loss: 0.3524 - mse: 0.3524 - mae: 0.4598\n",
      "Epoch 74/100\n",
      "517/517 [==============================] - 4s 7ms/step - loss: 0.3445 - mse: 0.3445 - mae: 0.4531\n",
      "Epoch 75/100\n",
      "517/517 [==============================] - 3s 7ms/step - loss: 0.3536 - mse: 0.3536 - mae: 0.4587A: 0s - loss: 0.3523 - mse: 0.3523 - mae: 0.4\n",
      "Epoch 76/100\n",
      "517/517 [==============================] - 4s 7ms/step - loss: 0.3531 - mse: 0.3531 - mae: 0.4592\n",
      "Epoch 77/100\n",
      "517/517 [==============================] - 4s 7ms/step - loss: 0.3454 - mse: 0.3454 - mae: 0.4554A: 0s - loss: 0.3427 - mse: 0.3427 - mae: \n",
      "Epoch 78/100\n",
      "517/517 [==============================] - 4s 7ms/step - loss: 0.3436 - mse: 0.3436 - mae: 0.4535A: 3s - loss:\n",
      "Epoch 79/100\n",
      "517/517 [==============================] - 4s 7ms/step - loss: 0.3411 - mse: 0.3411 - mae: 0.4525\n",
      "Epoch 80/100\n",
      "517/517 [==============================] - 4s 7ms/step - loss: 0.3336 - mse: 0.3336 - mae: 0.4470\n",
      "Epoch 81/100\n",
      "517/517 [==============================] - 4s 7ms/step - loss: 0.3362 - mse: 0.3362 - mae: 0.4470\n",
      "Epoch 82/100\n",
      "517/517 [==============================] - 4s 7ms/step - loss: 0.3303 - mse: 0.3303 - mae: 0.4420\n",
      "Epoch 83/100\n",
      "517/517 [==============================] - 4s 7ms/step - loss: 0.3261 - mse: 0.3261 - mae: 0.4406A: 0s - loss: 0.3280 - mse: 0.3280 - mae\n",
      "Epoch 84/100\n",
      "517/517 [==============================] - 4s 7ms/step - loss: 0.3261 - mse: 0.3261 - mae: 0.4431A: 0s - loss: 0.3265 - mse: 0.3265 - ma\n",
      "Epoch 85/100\n",
      "517/517 [==============================] - 3s 7ms/step - loss: 0.3255 - mse: 0.3255 - mae: 0.4421\n",
      "Epoch 86/100\n",
      "517/517 [==============================] - 4s 7ms/step - loss: 0.3187 - mse: 0.3187 - mae: 0.4370A: 1s - loss: 0.3109 - mse: \n",
      "Epoch 87/100\n",
      "517/517 [==============================] - 4s 7ms/step - loss: 0.3149 - mse: 0.3149 - mae: 0.4331\n",
      "Epoch 88/100\n",
      "517/517 [==============================] - 3s 7ms/step - loss: 0.3127 - mse: 0.3127 - mae: 0.4325\n",
      "Epoch 89/100\n",
      "517/517 [==============================] - 4s 7ms/step - loss: 0.3149 - mse: 0.3149 - mae: 0.4335\n",
      "Epoch 90/100\n",
      "517/517 [==============================] - 4s 7ms/step - loss: 0.3150 - mse: 0.3150 - mae: 0.4325\n",
      "Epoch 91/100\n",
      "517/517 [==============================] - 4s 7ms/step - loss: 0.3104 - mse: 0.3104 - mae: 0.4292A: 0s - loss: 0.3108 - mse: 0.3108 - mae: 0.42\n",
      "Epoch 92/100\n",
      "517/517 [==============================] - 4s 7ms/step - loss: 0.3101 - mse: 0.3101 - mae: 0.4288\n",
      "Epoch 93/100\n",
      "517/517 [==============================] - 4s 7ms/step - loss: 0.3058 - mse: 0.3058 - mae: 0.4277\n",
      "Epoch 94/100\n",
      "517/517 [==============================] - 4s 7ms/step - loss: 0.2957 - mse: 0.2957 - mae: 0.4166\n",
      "Epoch 95/100\n",
      "517/517 [==============================] - 4s 7ms/step - loss: 0.2977 - mse: 0.2977 - mae: 0.4197\n",
      "Epoch 96/100\n",
      "517/517 [==============================] - 4s 7ms/step - loss: 0.2979 - mse: 0.2979 - mae: 0.4194\n",
      "Epoch 97/100\n",
      "517/517 [==============================] - 4s 7ms/step - loss: 0.2907 - mse: 0.2907 - mae: 0.4132\n",
      "Epoch 98/100\n",
      "517/517 [==============================] - 4s 7ms/step - loss: 0.2980 - mse: 0.2980 - mae: 0.4170\n",
      "Epoch 99/100\n",
      "517/517 [==============================] - 4s 7ms/step - loss: 0.2925 - mse: 0.2925 - mae: 0.4166\n",
      "Epoch 100/100\n",
      "517/517 [==============================] - 4s 7ms/step - loss: 0.2849 - mse: 0.2849 - mae: 0.4092\n"
     ]
    }
   ],
   "source": [
    "# Train the model and store it in a variable called history for later access\n",
    "history = model.fit(x_train, y_train.to_numpy(), batch_size = 10, epochs = 100, verbose = 1)"
   ]
  },
  {
   "cell_type": "code",
   "execution_count": 172,
   "metadata": {},
   "outputs": [
    {
     "data": {
      "text/plain": [
       "<AxesSubplot:>"
      ]
     },
     "execution_count": 172,
     "metadata": {},
     "output_type": "execute_result"
    },
    {
     "data": {
      "image/png": "[encoded data removed]",
      "text/plain": [
       "<Figure size 432x288 with 1 Axes>"
      ]
     },
     "metadata": {},
     "output_type": "display_data"
    }
   ],
   "source": [
    "# Provides a view of the model's accuracy improvement per epoch. (Lower loss values indicate better accuracy.)\n",
    "losses = pd.DataFrame(history.history)\n",
    "losses.plot()"
   ]
  },
  {
   "cell_type": "code",
   "execution_count": 173,
   "metadata": {},
   "outputs": [
    {
     "data": {
      "text/plain": [
       "array([[5.3969584],\n",
       "       [5.6164594],\n",
       "       [5.8714786],\n",
       "       ...,\n",
       "       [5.3398595],\n",
       "       [6.7321   ],\n",
       "       [6.1077237]], dtype=float32)"
      ]
     },
     "execution_count": 173,
     "metadata": {},
     "output_type": "execute_result"
    }
   ],
   "source": [
    "# Predict a quality score for all record in the x_test array. \n",
    "y_pred = model.predict(x_test)\n",
    "y_pred\n"
   ]
  },
  {
   "cell_type": "code",
   "execution_count": 174,
   "metadata": {},
   "outputs": [],
   "source": [
    "# With our trained model, we can now predict custom inputs of chemical data. "
   ]
  },
  {
   "cell_type": "code",
   "execution_count": 175,
   "metadata": {},
   "outputs": [],
   "source": [
    "## Use the sliders below to input the results of a chemical analysis, press \"Calculate\" to recieve a quality prediction. "
   ]
  },
  {
   "cell_type": "code",
   "execution_count": 207,
   "metadata": {},
   "outputs": [
    {
     "data": {
      "application/vnd.jupyter.widget-view+json": {
       "model_id": "a6225aa4a9984f459da026b911d249a4",
       "version_major": 2,
       "version_minor": 0
      },
      "text/plain": [
       "Tab(children=(VBox(children=(FloatSlider(value=7.2, description='Fixed Acidity', max=10.0, min=3.8, step=0.01)…"
      ]
     },
     "metadata": {},
     "output_type": "display_data"
    }
   ],
   "source": [
    "#Create the 11 widget sliders for the chemical analysis parameters\n",
    "\n",
    "fixed_acidity = widgets.FloatSlider(value=7.2, min=3.8, max=10.0, step=0.01, description = \"Fixed Acidity\")\n",
    "volatile_acidity = widgets.FloatSlider(value=0.33, min=0.08, max=1.0, step=0.01, description = \"Volatile Acidity\")\n",
    "citric_acid = widgets.FloatSlider(value=0.33, min=0.0, max=1.0, step=0.01, description = \"Citric Acid\")\n",
    "residual_sugar = widgets.FloatSlider(value=5.4, min=1, max=20, step=0.01, description = \"Residual Sugar\")\n",
    "chlorides = widgets.FloatSlider(value=0.05, min=0.01, max=0.1, step=0.001, description = \"Chlorides\")\n",
    "free_SO2 = widgets.IntSlider(value=30, min=1, max=110, step=1, description = \"Free SO2\")\n",
    "total_SO2 = widgets.IntSlider(value=115, min=50, max=225, step=1, description = \"Total SO2\")\n",
    "density = widgets.FloatSlider(value=0.99, min=0.95, max=1.0, step=0.0001, description = \"Density\")\n",
    "pH = widgets.FloatSlider(value=3.2, min=2.75, max=3.80, step=0.01, description = \"pH\")\n",
    "sulfates = widgets.FloatSlider(value=0.0, min=0.35, max=0.75, step=0.001, description = \"Sulfates\")\n",
    "alcohol = widgets.FloatSlider(value=10.5, min=8, max=15.0, step=0.01, description = \"Alcohol\")\n",
    "\n",
    "widget_box = widgets.VBox([fixed_acidity, volatile_acidity, citric_acid, residual_sugar, chlorides, free_SO2, total_SO2,\n",
    "                          density, pH, sulfates, alcohol])\n",
    "children = [widget_box]\n",
    "tab = widgets.Tab()\n",
    "tab.children = children\n",
    "tab.set_title(0, \"Chemical Properties\")\n",
    "tab\n"
   ]
  },
  {
   "cell_type": "code",
   "execution_count": 218,
   "metadata": {},
   "outputs": [
    {
     "name": "stdout",
     "output_type": "stream",
     "text": [
      "[[6.67, 0.8, 0.4, 19.3, 0.034, 89, 168, 0.9606, 3.76, 0.542, 15.0]]\n"
     ]
    },
    {
     "data": {
      "application/vnd.jupyter.widget-view+json": {
       "model_id": "009a2002fbfb474290c55d057edbecd4",
       "version_major": 2,
       "version_minor": 0
      },
      "text/plain": [
       "VBox(children=(Button(description='Predict Quality', style=ButtonStyle()), Output()))"
      ]
     },
     "metadata": {},
     "output_type": "display_data"
    }
   ],
   "source": [
    "# Store slider data (the user's prediction) in a list.\n",
    "\n",
    "user_pred = [[fixed_acidity.value, volatile_acidity.value, citric_acid.value, residual_sugar.value,\n",
    "             chlorides.value, free_SO2.value, total_SO2.value,\n",
    "             density.value, pH.value, sulfates.value, alcohol.value]]\n",
    "\n",
    "print(user_pred)\n",
    "\n",
    "def calculate_user_prediction(user_prediction):\n",
    "    prediction_list = scaler.transform(user_prediction)\n",
    "    return min(model.predict(prediction_list), 10)\n",
    "    \n",
    "    \n",
    "\n",
    "# Define an on_click handler for the calculate button, display the button, and output our prediction. \n",
    "def on_calculate_click(_):\n",
    "    prediction = calculate_user_prediction(user_pred)\n",
    "    with out:\n",
    "        out.clear_output()\n",
    "        print(\"##### PREDICTION #####\")\n",
    "        print(\"For a wine with the selected chemical properties, our model predicts a quality score of:\", round(prediction[0][0], 2))\n",
    "        print(\"##### ACCURACY #####\")\n",
    "        print(\"Mean Absolute Error: \" , round(mean_absolute_error(y_test, model.predict(x_test)), 2))\n",
    "    return\n",
    "\n",
    "button = widgets.Button(description=\"Predict Quality\")\n",
    "out = widgets.Output()\n",
    "\n",
    "button.on_click(on_calculate_click)\n",
    "widgets.VBox([button, out])\n",
    "\n",
    "\n",
    "\n"
   ]
  },
  {
   "cell_type": "code",
   "execution_count": null,
   "metadata": {},
   "outputs": [],
   "source": []
  }
 ],
 "metadata": {
  "kernelspec": {
   "display_name": "Python 3",
   "language": "python",
   "name": "python3"
  },
  "language_info": {
   "codemirror_mode": {
    "name": "ipython",
    "version": 3
   },
   "file_extension": ".py",
   "mimetype": "text/x-python",
   "name": "python",
   "nbconvert_exporter": "python",
   "pygments_lexer": "ipython3",
   "version": "3.6.13"
  }
 },
 "nbformat": 4,
 "nbformat_minor": 2
}
